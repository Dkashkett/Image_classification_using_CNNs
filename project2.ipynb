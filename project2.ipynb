{
 "cells": [
  {
   "cell_type": "markdown",
   "metadata": {},
   "source": [
    "# Project 2: Neural Networks for Image Classification"
   ]
  },
  {
   "cell_type": "code",
   "execution_count": 1,
   "metadata": {},
   "outputs": [],
   "source": [
    "import numpy as np\n",
    "import pandas as pd\n",
    "import matplotlib.pyplot as plt\n",
    "from scipy.io import loadmat"
   ]
  },
  {
   "cell_type": "code",
   "execution_count": 16,
   "metadata": {},
   "outputs": [],
   "source": [
    "import tensorflow as tf\n",
    "from keras.datasets import mnist\n",
    "from keras.models import Sequential\n",
    "from keras.layers import Dense\n",
    "from keras.utils import np_utils\n",
    "from keras.layers import Flatten\n",
    "from keras.layers.convolutional import Conv2D, MaxPooling2D\n",
    "from keras.layers import Dropout\n",
    "from keras.callbacks import EarlyStopping\n",
    "from sklearn.model_selection import train_test_split\n",
    "\n",
    "from tensorflow.keras import layers\n",
    "from tensorflow.keras.models import Sequential"
   ]
  },
  {
   "cell_type": "code",
   "execution_count": 3,
   "metadata": {},
   "outputs": [],
   "source": [
    "#load data chunks and converts to numpy arrays\n",
    "def load_pose_data():\n",
    "    pose = np.array(loadmat('./data/pose.mat')['pose'])\n",
    "    illum = np.array(loadmat('./data/illumination.mat')['illum'])\n",
    "    return pose, illum\n",
    "\n",
    "def make_pose_dataset(pose, illum, test_size = .3):\n",
    "    pose_data = []\n",
    "    pose_labels = []\n",
    "    for subject in range(68):\n",
    "        for img in range(13):\n",
    "            pose_data.append(pose[:,:,img,subject])\n",
    "            pose_labels.append(subject)\n",
    "            \n",
    "    pose_data = np.array(pose_data)\n",
    "    pose_labels = np.transpose(np.array(pose_labels))\n",
    "    \n",
    "    X_train, X_test, y_train, y_test = train_test_split(pose_data, pose_labels, test_size=test_size, random_state=31, stratify=pose_labels)\n",
    "    X_train, y_train = list(X_train), list(y_train)\n",
    "    \n",
    "    for subject in range(68):\n",
    "        for img in range(21):\n",
    "            image = illum[:,img,subject].reshape((40,48))\n",
    "            image = np.flip(np.rot90(image))\n",
    "            X_train.append(image)\n",
    "            y_train.append(subject)\n",
    "            \n",
    "    X_train, y_train = np.array(X_train), np.array(y_train)\n",
    "    \n",
    "    return X_train, X_test, y_train, y_test"
   ]
  },
  {
   "cell_type": "markdown",
   "metadata": {},
   "source": [
    "### Networks\n",
    "##### Below are functions to create the three neural networks architectures that I will be testing. The first is a very simple, shallow sequential NN, the second is a CNN, and the third is a deeper CNN."
   ]
  },
  {
   "cell_type": "code",
   "execution_count": 4,
   "metadata": {},
   "outputs": [],
   "source": [
    "#networks\n",
    "def build_sequential(num_classes):\n",
    "    # create model\n",
    "    model = Sequential()\n",
    "    model.add(Dense(num_pixels, input_dim=num_pixels, kernel_initializer='normal', activation='relu'))\n",
    "    model.add(Dense(num_classes, kernel_initializer='normal', activation='softmax'))\n",
    "    # Compile model\n",
    "    model.compile(loss='categorical_crossentropy', optimizer='adam', metrics=['accuracy'])\n",
    "    return model\n",
    "\n",
    "def build_cnn(input_shape):\n",
    "    # create model\n",
    "    model = Sequential()\n",
    "    model.add(Conv2D(32, (5, 5), input_shape=input_shape, activation='relu'))\n",
    "    model.add(MaxPooling2D())\n",
    "    model.add(Dropout(0.2))\n",
    "    model.add(Flatten())\n",
    "    model.add(Dense(128, activation='relu'))\n",
    "    model.add(Dense(num_classes, activation='softmax'))\n",
    "    # Compile model\n",
    "    model.compile(loss='categorical_crossentropy', optimizer='adam', metrics=['accuracy'])\n",
    "    return model\n",
    "\n",
    "def build_large_cnn(input_shape):\n",
    "    # create model\n",
    "    model = Sequential()\n",
    "    model.add(Conv2D(30, (5, 5), input_shape=(input_shape), activation='relu'))\n",
    "    model.add(MaxPooling2D())\n",
    "    model.add(Conv2D(15, (3, 3), activation='relu'))\n",
    "    model.add(MaxPooling2D())\n",
    "    model.add(Dropout(0.2))\n",
    "    model.add(Flatten())\n",
    "    model.add(Dense(128, activation='relu'))\n",
    "    model.add(Dense(50, activation='relu'))\n",
    "    model.add(Dense(num_classes, activation='softmax'))\n",
    "    # Compile model\n",
    "    model.compile(loss='categorical_crossentropy', optimizer='adam', metrics=['accuracy'])\n",
    "    return model\n"
   ]
  },
  {
   "cell_type": "code",
   "execution_count": 24,
   "metadata": {},
   "outputs": [],
   "source": [
    "def cnn(input_shape):\n",
    "    # create model\n",
    "    model = Sequential()\n",
    "    model.add(Conv2D(30, (5, 5), input_shape=(input_shape), activation='relu'))\n",
    "    model.add(MaxPooling2D())\n",
    "    model.add(Conv2D(15, (3, 3), activation='relu'))\n",
    "    model.add(MaxPooling2D())\n",
    "    model.add(Dropout(0.2))\n",
    "    model.add(Flatten())\n",
    "    model.add(Dense(256, activation='relu'))\n",
    "    model.add(Dense(128, activation='relu'))\n",
    "    model.add(Dense(50, activation='relu'))\n",
    "    model.add(Dense(num_classes, activation='softmax'))\n",
    "    # Compile model\n",
    "    model.compile(loss='categorical_crossentropy', optimizer='adam', metrics=['accuracy'])\n",
    "    return model\n"
   ]
  },
  {
   "cell_type": "markdown",
   "metadata": {},
   "source": [
    "## POSE Dataset\n",
    "##### I will first test these architectures on the POSE data from project 1."
   ]
  },
  {
   "cell_type": "code",
   "execution_count": 22,
   "metadata": {},
   "outputs": [],
   "source": [
    "#load pose data\n",
    "pose, illum = load_pose_data()\n",
    "X_train, X_test, y_train, y_test = make_pose_dataset(pose, illum)\n",
    "\n",
    "#expand dimension to include number channels\n",
    "X_train = X_train.reshape((X_train.shape[0], 48, 40, 1)).astype('float32')\n",
    "X_test = X_test.reshape((X_test.shape[0], 48, 40, 1)).astype('float32')\n",
    "\n",
    "# normalize inputs from 0-255 to 0-1\n",
    "X_train = X_train / 255\n",
    "X_test = X_test / 255\n",
    "# one hot encode outputs\n",
    "y_train = np_utils.to_categorical(y_train)\n",
    "y_test = np_utils.to_categorical(y_test)\n",
    "\n",
    "num_classes = y_test.shape[1]\n",
    "num_pixels = X_train.shape[1] * X_train.shape[2]\n",
    "\n",
    "#flattened versions of data for sequentail model\n",
    "X_train_flat = X_train.reshape((X_train.shape[0], num_pixels)).astype('float32')\n",
    "X_test_flat = X_test.reshape((X_test.shape[0], num_pixels)).astype('float32')"
   ]
  },
  {
   "cell_type": "code",
   "execution_count": 9,
   "metadata": {},
   "outputs": [
    {
     "data": {
      "image/png": "[encoded data removed]",
      "text/plain": [
       "<Figure size 432x288 with 4 Axes>"
      ]
     },
     "metadata": {
      "needs_background": "light"
     },
     "output_type": "display_data"
    }
   ],
   "source": [
    "# view pose data\n",
    "imgs = X_train[:4].reshape((4,48,40))\n",
    "plt.subplot(221)\n",
    "plt.imshow(imgs[0], cmap=plt.get_cmap('gray'))\n",
    "plt.axis('off')\n",
    "plt.subplot(222)\n",
    "plt.imshow(imgs[1], cmap=plt.get_cmap('gray'))\n",
    "plt.axis('off')\n",
    "plt.subplot(223)\n",
    "plt.imshow(imgs[2], cmap=plt.get_cmap('gray'))\n",
    "plt.axis('off')\n",
    "plt.subplot(224)\n",
    "plt.imshow(imgs[3], cmap=plt.get_cmap('gray'))\n",
    "# show the plot\n",
    "plt.axis('off')\n",
    "plt.show()"
   ]
  },
  {
   "cell_type": "markdown",
   "metadata": {},
   "source": [
    "### Simple Sequential Model"
   ]
  },
  {
   "cell_type": "code",
   "execution_count": 39,
   "metadata": {},
   "outputs": [
    {
     "name": "stdout",
     "output_type": "stream",
     "text": [
      "Epoch 1/100\n",
      "11/11 - 0s - loss: 6.3703 - accuracy: 0.0288 - val_loss: 6.3297 - val_accuracy: 0.0714\n",
      "Epoch 2/100\n",
      "11/11 - 0s - loss: 4.8726 - accuracy: 0.0958 - val_loss: 4.5173 - val_accuracy: 0.0977\n",
      "Epoch 3/100\n",
      "11/11 - 0s - loss: 3.7174 - accuracy: 0.2136 - val_loss: 3.8364 - val_accuracy: 0.1053\n",
      "Epoch 4/100\n",
      "11/11 - 0s - loss: 3.0448 - accuracy: 0.3543 - val_loss: 3.3693 - val_accuracy: 0.1767\n",
      "Epoch 5/100\n",
      "11/11 - 0s - loss: 2.5630 - accuracy: 0.4917 - val_loss: 2.9759 - val_accuracy: 0.2218\n",
      "Epoch 6/100\n",
      "11/11 - 0s - loss: 2.1782 - accuracy: 0.6266 - val_loss: 2.9062 - val_accuracy: 0.2632\n",
      "Epoch 7/100\n",
      "11/11 - 0s - loss: 1.8719 - accuracy: 0.6804 - val_loss: 2.7821 - val_accuracy: 0.3120\n",
      "Epoch 8/100\n",
      "11/11 - 0s - loss: 1.5895 - accuracy: 0.7546 - val_loss: 2.5639 - val_accuracy: 0.3722\n",
      "Epoch 9/100\n",
      "11/11 - 0s - loss: 1.3813 - accuracy: 0.7923 - val_loss: 2.2981 - val_accuracy: 0.4398\n",
      "Epoch 10/100\n",
      "11/11 - 0s - loss: 1.1682 - accuracy: 0.8407 - val_loss: 2.2765 - val_accuracy: 0.4135\n",
      "Epoch 11/100\n",
      "11/11 - 0s - loss: 1.0104 - accuracy: 0.8724 - val_loss: 2.1505 - val_accuracy: 0.4511\n",
      "Epoch 12/100\n",
      "11/11 - 0s - loss: 0.8946 - accuracy: 0.8920 - val_loss: 1.9877 - val_accuracy: 0.5150\n",
      "Epoch 13/100\n",
      "11/11 - 0s - loss: 0.8022 - accuracy: 0.9022 - val_loss: 2.0342 - val_accuracy: 0.4850\n",
      "Epoch 14/100\n",
      "11/11 - 0s - loss: 0.7173 - accuracy: 0.9106 - val_loss: 1.9625 - val_accuracy: 0.5150\n",
      "Epoch 15/100\n",
      "11/11 - 0s - loss: 0.6328 - accuracy: 0.9267 - val_loss: 1.7069 - val_accuracy: 0.6241\n",
      "Epoch 16/100\n",
      "11/11 - 0s - loss: 0.5333 - accuracy: 0.9428 - val_loss: 1.7519 - val_accuracy: 0.5940\n",
      "Epoch 17/100\n",
      "11/11 - 0s - loss: 0.4958 - accuracy: 0.9492 - val_loss: 1.6562 - val_accuracy: 0.6391\n",
      "Epoch 18/100\n",
      "11/11 - 0s - loss: 0.4570 - accuracy: 0.9526 - val_loss: 1.6627 - val_accuracy: 0.5977\n",
      "Epoch 19/100\n",
      "11/11 - 0s - loss: 0.3876 - accuracy: 0.9668 - val_loss: 1.6011 - val_accuracy: 0.6015\n",
      "Epoch 20/100\n",
      "11/11 - 0s - loss: 0.3630 - accuracy: 0.9692 - val_loss: 1.5587 - val_accuracy: 0.6654\n",
      "Epoch 21/100\n",
      "11/11 - 0s - loss: 0.3565 - accuracy: 0.9629 - val_loss: 1.5057 - val_accuracy: 0.6729\n",
      "Epoch 22/100\n",
      "11/11 - 0s - loss: 0.2975 - accuracy: 0.9761 - val_loss: 1.5337 - val_accuracy: 0.6466\n",
      "Epoch 23/100\n",
      "11/11 - 0s - loss: 0.2670 - accuracy: 0.9780 - val_loss: 1.3183 - val_accuracy: 0.6955\n",
      "Epoch 24/100\n",
      "11/11 - 0s - loss: 0.2576 - accuracy: 0.9770 - val_loss: 1.3404 - val_accuracy: 0.6955\n",
      "Epoch 25/100\n",
      "11/11 - 0s - loss: 0.2184 - accuracy: 0.9888 - val_loss: 1.3665 - val_accuracy: 0.6767\n",
      "Epoch 26/100\n",
      "11/11 - 0s - loss: 0.2125 - accuracy: 0.9819 - val_loss: 1.2591 - val_accuracy: 0.7218\n",
      "Epoch 27/100\n",
      "11/11 - 0s - loss: 0.1936 - accuracy: 0.9853 - val_loss: 1.2819 - val_accuracy: 0.7143\n",
      "Epoch 28/100\n",
      "11/11 - 0s - loss: 0.1730 - accuracy: 0.9912 - val_loss: 1.2462 - val_accuracy: 0.6992\n",
      "Epoch 29/100\n",
      "11/11 - 0s - loss: 0.1760 - accuracy: 0.9848 - val_loss: 1.3260 - val_accuracy: 0.6955\n",
      "Epoch 30/100\n",
      "11/11 - 0s - loss: 0.1655 - accuracy: 0.9868 - val_loss: 1.3556 - val_accuracy: 0.6767\n",
      "Epoch 31/100\n",
      "11/11 - 0s - loss: 0.1433 - accuracy: 0.9951 - val_loss: 1.2354 - val_accuracy: 0.7068\n",
      "Epoch 32/100\n",
      "11/11 - 0s - loss: 0.1206 - accuracy: 0.9971 - val_loss: 1.2459 - val_accuracy: 0.7256\n",
      "Epoch 33/100\n",
      "11/11 - 0s - loss: 0.1168 - accuracy: 0.9956 - val_loss: 1.1953 - val_accuracy: 0.7406\n",
      "Epoch 34/100\n",
      "11/11 - 0s - loss: 0.1155 - accuracy: 0.9951 - val_loss: 1.2005 - val_accuracy: 0.7105\n",
      "Epoch 35/100\n",
      "11/11 - 0s - loss: 0.1046 - accuracy: 0.9961 - val_loss: 1.1776 - val_accuracy: 0.7180\n",
      "Epoch 36/100\n",
      "11/11 - 0s - loss: 0.0965 - accuracy: 0.9990 - val_loss: 1.1683 - val_accuracy: 0.7368\n",
      "Epoch 37/100\n",
      "11/11 - 0s - loss: 0.0848 - accuracy: 0.9985 - val_loss: 1.1666 - val_accuracy: 0.7444\n",
      "Epoch 38/100\n",
      "11/11 - 0s - loss: 0.0806 - accuracy: 0.9990 - val_loss: 1.1319 - val_accuracy: 0.7556\n",
      "Epoch 39/100\n",
      "11/11 - 0s - loss: 0.0780 - accuracy: 0.9990 - val_loss: 1.1556 - val_accuracy: 0.7331\n",
      "Epoch 40/100\n",
      "11/11 - 0s - loss: 0.0760 - accuracy: 0.9976 - val_loss: 1.1576 - val_accuracy: 0.7368\n",
      "Epoch 41/100\n",
      "11/11 - 0s - loss: 0.0726 - accuracy: 0.9990 - val_loss: 1.1206 - val_accuracy: 0.7406\n",
      "Epoch 42/100\n",
      "11/11 - 0s - loss: 0.0683 - accuracy: 0.9990 - val_loss: 1.1204 - val_accuracy: 0.7481\n",
      "Epoch 43/100\n",
      "11/11 - 0s - loss: 0.0603 - accuracy: 0.9995 - val_loss: 1.1214 - val_accuracy: 0.7556\n",
      "Epoch 44/100\n",
      "11/11 - 0s - loss: 0.0566 - accuracy: 0.9990 - val_loss: 1.0958 - val_accuracy: 0.7594\n",
      "Epoch 45/100\n",
      "11/11 - 0s - loss: 0.0508 - accuracy: 0.9990 - val_loss: 1.0786 - val_accuracy: 0.7594\n",
      "Epoch 46/100\n",
      "11/11 - 0s - loss: 0.0490 - accuracy: 1.0000 - val_loss: 1.1006 - val_accuracy: 0.7406\n",
      "Epoch 47/100\n",
      "11/11 - 0s - loss: 0.0462 - accuracy: 1.0000 - val_loss: 1.0850 - val_accuracy: 0.7481\n",
      "Epoch 48/100\n",
      "11/11 - 0s - loss: 0.0511 - accuracy: 0.9990 - val_loss: 1.1035 - val_accuracy: 0.7481\n",
      "Epoch 49/100\n",
      "11/11 - 0s - loss: 0.0497 - accuracy: 1.0000 - val_loss: 1.1090 - val_accuracy: 0.7444\n",
      "Epoch 50/100\n",
      "11/11 - 0s - loss: 0.0420 - accuracy: 1.0000 - val_loss: 1.0425 - val_accuracy: 0.7594\n",
      "Epoch 51/100\n",
      "11/11 - 0s - loss: 0.0379 - accuracy: 1.0000 - val_loss: 1.0669 - val_accuracy: 0.7632\n",
      "Epoch 52/100\n",
      "11/11 - 0s - loss: 0.0359 - accuracy: 1.0000 - val_loss: 1.0658 - val_accuracy: 0.7556\n",
      "Epoch 53/100\n",
      "11/11 - 0s - loss: 0.0347 - accuracy: 1.0000 - val_loss: 1.0435 - val_accuracy: 0.7707\n",
      "Epoch 54/100\n",
      "11/11 - 0s - loss: 0.0335 - accuracy: 1.0000 - val_loss: 1.0718 - val_accuracy: 0.7632\n",
      "Epoch 55/100\n",
      "11/11 - 0s - loss: 0.0337 - accuracy: 1.0000 - val_loss: 1.0355 - val_accuracy: 0.7707\n",
      "Epoch 56/100\n",
      "11/11 - 0s - loss: 0.0366 - accuracy: 0.9995 - val_loss: 1.1079 - val_accuracy: 0.7632\n",
      "Epoch 57/100\n",
      "11/11 - 0s - loss: 0.0330 - accuracy: 1.0000 - val_loss: 1.0861 - val_accuracy: 0.7707\n",
      "Epoch 58/100\n",
      "11/11 - 0s - loss: 0.0294 - accuracy: 1.0000 - val_loss: 1.0827 - val_accuracy: 0.7556\n",
      "Epoch 59/100\n",
      "11/11 - 0s - loss: 0.0295 - accuracy: 1.0000 - val_loss: 1.0374 - val_accuracy: 0.7857\n",
      "Epoch 60/100\n",
      "11/11 - 0s - loss: 0.0268 - accuracy: 1.0000 - val_loss: 1.0614 - val_accuracy: 0.7669\n",
      "Epoch 61/100\n",
      "11/11 - 0s - loss: 0.0256 - accuracy: 1.0000 - val_loss: 1.0510 - val_accuracy: 0.7632\n",
      "Epoch 62/100\n",
      "11/11 - 0s - loss: 0.0249 - accuracy: 1.0000 - val_loss: 1.0412 - val_accuracy: 0.7669\n",
      "Epoch 63/100\n",
      "11/11 - 0s - loss: 0.0232 - accuracy: 1.0000 - val_loss: 1.0361 - val_accuracy: 0.7632\n",
      "Epoch 64/100\n",
      "11/11 - 0s - loss: 0.0225 - accuracy: 1.0000 - val_loss: 1.0478 - val_accuracy: 0.7744\n",
      "Epoch 65/100\n",
      "11/11 - 0s - loss: 0.0218 - accuracy: 1.0000 - val_loss: 1.0261 - val_accuracy: 0.7707\n",
      "Epoch 66/100\n",
      "11/11 - 0s - loss: 0.0210 - accuracy: 1.0000 - val_loss: 1.0399 - val_accuracy: 0.7857\n",
      "Epoch 67/100\n",
      "11/11 - 0s - loss: 0.0207 - accuracy: 1.0000 - val_loss: 1.0510 - val_accuracy: 0.7669\n",
      "Epoch 68/100\n",
      "11/11 - 0s - loss: 0.0203 - accuracy: 1.0000 - val_loss: 1.0215 - val_accuracy: 0.7820\n",
      "Epoch 69/100\n",
      "11/11 - 0s - loss: 0.0195 - accuracy: 1.0000 - val_loss: 1.0303 - val_accuracy: 0.7669\n",
      "Epoch 70/100\n",
      "11/11 - 0s - loss: 0.0189 - accuracy: 1.0000 - val_loss: 1.0339 - val_accuracy: 0.7857\n",
      "Epoch 71/100\n",
      "11/11 - 0s - loss: 0.0182 - accuracy: 1.0000 - val_loss: 1.0293 - val_accuracy: 0.7669\n",
      "Epoch 72/100\n",
      "11/11 - 0s - loss: 0.0180 - accuracy: 1.0000 - val_loss: 1.0394 - val_accuracy: 0.7669\n",
      "Epoch 73/100\n",
      "11/11 - 0s - loss: 0.0175 - accuracy: 1.0000 - val_loss: 1.0468 - val_accuracy: 0.7744\n",
      "Epoch 74/100\n",
      "11/11 - 0s - loss: 0.0177 - accuracy: 1.0000 - val_loss: 1.0157 - val_accuracy: 0.7744\n",
      "Epoch 75/100\n",
      "11/11 - 0s - loss: 0.0175 - accuracy: 1.0000 - val_loss: 1.0580 - val_accuracy: 0.7669\n",
      "Epoch 76/100\n",
      "11/11 - 0s - loss: 0.0165 - accuracy: 1.0000 - val_loss: 1.0290 - val_accuracy: 0.7707\n",
      "Epoch 77/100\n",
      "11/11 - 0s - loss: 0.0162 - accuracy: 1.0000 - val_loss: 1.0400 - val_accuracy: 0.7707\n",
      "Epoch 78/100\n",
      "11/11 - 0s - loss: 0.0154 - accuracy: 1.0000 - val_loss: 1.0355 - val_accuracy: 0.7782\n",
      "Epoch 79/100\n",
      "11/11 - 0s - loss: 0.0151 - accuracy: 1.0000 - val_loss: 1.0330 - val_accuracy: 0.7669\n",
      "Epoch 80/100\n",
      "11/11 - 0s - loss: 0.0150 - accuracy: 1.0000 - val_loss: 1.0468 - val_accuracy: 0.7744\n",
      "Epoch 81/100\n",
      "11/11 - 0s - loss: 0.0142 - accuracy: 1.0000 - val_loss: 1.0470 - val_accuracy: 0.7782\n",
      "Epoch 82/100\n",
      "11/11 - 0s - loss: 0.0138 - accuracy: 1.0000 - val_loss: 1.0328 - val_accuracy: 0.7707\n",
      "Epoch 83/100\n",
      "11/11 - 0s - loss: 0.0136 - accuracy: 1.0000 - val_loss: 1.0277 - val_accuracy: 0.7857\n",
      "Epoch 84/100\n",
      "11/11 - 0s - loss: 0.0131 - accuracy: 1.0000 - val_loss: 1.0383 - val_accuracy: 0.7669\n",
      "Epoch 85/100\n",
      "11/11 - 0s - loss: 0.0130 - accuracy: 1.0000 - val_loss: 1.0388 - val_accuracy: 0.7744\n",
      "Epoch 86/100\n",
      "11/11 - 0s - loss: 0.0129 - accuracy: 1.0000 - val_loss: 1.0289 - val_accuracy: 0.7744\n",
      "Epoch 87/100\n",
      "11/11 - 0s - loss: 0.0125 - accuracy: 1.0000 - val_loss: 1.0329 - val_accuracy: 0.7744\n",
      "Epoch 88/100\n",
      "11/11 - 0s - loss: 0.0122 - accuracy: 1.0000 - val_loss: 1.0325 - val_accuracy: 0.7669\n",
      "Epoch 89/100\n",
      "11/11 - 0s - loss: 0.0119 - accuracy: 1.0000 - val_loss: 1.0331 - val_accuracy: 0.7782\n",
      "Epoch 90/100\n",
      "11/11 - 0s - loss: 0.0116 - accuracy: 1.0000 - val_loss: 1.0360 - val_accuracy: 0.7707\n",
      "Epoch 91/100\n",
      "11/11 - 0s - loss: 0.0114 - accuracy: 1.0000 - val_loss: 1.0319 - val_accuracy: 0.7820\n",
      "Epoch 92/100\n",
      "11/11 - 0s - loss: 0.0112 - accuracy: 1.0000 - val_loss: 1.0390 - val_accuracy: 0.7707\n",
      "Epoch 93/100\n",
      "11/11 - 0s - loss: 0.0108 - accuracy: 1.0000 - val_loss: 1.0358 - val_accuracy: 0.7820\n",
      "Epoch 94/100\n",
      "11/11 - 0s - loss: 0.0106 - accuracy: 1.0000 - val_loss: 1.0363 - val_accuracy: 0.7744\n",
      "Epoch 95/100\n",
      "11/11 - 0s - loss: 0.0103 - accuracy: 1.0000 - val_loss: 1.0355 - val_accuracy: 0.7782\n",
      "Epoch 96/100\n",
      "11/11 - 0s - loss: 0.0100 - accuracy: 1.0000 - val_loss: 1.0445 - val_accuracy: 0.7782\n",
      "Epoch 97/100\n",
      "11/11 - 0s - loss: 0.0099 - accuracy: 1.0000 - val_loss: 1.0268 - val_accuracy: 0.7782\n",
      "Epoch 98/100\n",
      "11/11 - 0s - loss: 0.0098 - accuracy: 1.0000 - val_loss: 1.0380 - val_accuracy: 0.7707\n",
      "Epoch 99/100\n",
      "11/11 - 0s - loss: 0.0095 - accuracy: 1.0000 - val_loss: 1.0372 - val_accuracy: 0.7820\n",
      "Epoch 100/100\n",
      "11/11 - 0s - loss: 0.0095 - accuracy: 1.0000 - val_loss: 1.0406 - val_accuracy: 0.7632\n",
      "Baseline Error: 23.68%\n"
     ]
    }
   ],
   "source": [
    "# build the model\n",
    "pose_sequential = build_sequential(num_classes)\n",
    "# Fit the model\n",
    "pose_seq_history = pose_sequential.fit(X_train_flat, y_train, validation_data=(X_test_flat, y_test), epochs=100, batch_size=200, verbose=2)\n",
    "# Final evaluation of the model\n",
    "scores = pose_sequential.evaluate(X_test_flat, y_test, verbose=0)\n",
    "print(\"Baseline Error: %.2f%%\" % (100-scores[1]*100))"
   ]
  },
  {
   "cell_type": "code",
   "execution_count": 40,
   "metadata": {},
   "outputs": [
    {
     "data": {
      "text/plain": [
       "<matplotlib.axes._subplots.AxesSubplot at 0x7fb7cb6e89d0>"
      ]
     },
     "execution_count": 40,
     "metadata": {},
     "output_type": "execute_result"
    },
    {
     "data": {
      "image/png": "[encoded data removed]",
      "text/plain": [
       "<Figure size 432x288 with 1 Axes>"
      ]
     },
     "metadata": {
      "needs_background": "light"
     },
     "output_type": "display_data"
    }
   ],
   "source": [
    "frame = pd.DataFrame(pose_seq_history.history)\n",
    "frame.plot()"
   ]
  },
  {
   "cell_type": "markdown",
   "metadata": {},
   "source": [
    "### Convolutional Neural Net"
   ]
  },
  {
   "cell_type": "code",
   "execution_count": 7,
   "metadata": {},
   "outputs": [],
   "source": [
    "input_shape = (X_train.shape[1],X_train.shape[2],1)"
   ]
  },
  {
   "cell_type": "code",
   "execution_count": 8,
   "metadata": {},
   "outputs": [
    {
     "name": "stdout",
     "output_type": "stream",
     "text": [
      "Epoch 1/100\n",
      "11/11 [==============================] - 1s 75ms/step - loss: 4.2176 - accuracy: 0.0279 - val_loss: 4.1594 - val_accuracy: 0.0451\n",
      "Epoch 2/100\n",
      "11/11 [==============================] - 1s 73ms/step - loss: 4.0515 - accuracy: 0.0885 - val_loss: 4.0062 - val_accuracy: 0.0940\n",
      "Epoch 3/100\n",
      "11/11 [==============================] - 1s 69ms/step - loss: 3.7649 - accuracy: 0.1667 - val_loss: 3.7442 - val_accuracy: 0.1241\n",
      "Epoch 4/100\n",
      "11/11 [==============================] - 1s 71ms/step - loss: 3.3121 - accuracy: 0.3016 - val_loss: 3.3622 - val_accuracy: 0.1917\n",
      "Epoch 5/100\n",
      "11/11 [==============================] - 1s 80ms/step - loss: 2.7275 - accuracy: 0.4858 - val_loss: 2.8670 - val_accuracy: 0.2782\n",
      "Epoch 6/100\n",
      "11/11 [==============================] - 1s 74ms/step - loss: 2.1422 - accuracy: 0.6173 - val_loss: 2.5794 - val_accuracy: 0.3684\n",
      "Epoch 7/100\n",
      "11/11 [==============================] - 1s 80ms/step - loss: 1.6526 - accuracy: 0.7072 - val_loss: 2.1944 - val_accuracy: 0.4173\n",
      "Epoch 8/100\n",
      "11/11 [==============================] - 1s 72ms/step - loss: 1.2776 - accuracy: 0.7942 - val_loss: 2.0302 - val_accuracy: 0.4511\n",
      "Epoch 9/100\n",
      "11/11 [==============================] - 1s 72ms/step - loss: 0.9959 - accuracy: 0.8377 - val_loss: 1.7917 - val_accuracy: 0.5038\n",
      "Epoch 10/100\n",
      "11/11 [==============================] - 1s 70ms/step - loss: 0.7857 - accuracy: 0.8759 - val_loss: 1.7459 - val_accuracy: 0.5338\n",
      "Epoch 11/100\n",
      "11/11 [==============================] - 1s 74ms/step - loss: 0.6451 - accuracy: 0.8910 - val_loss: 1.6045 - val_accuracy: 0.5902\n",
      "Epoch 12/100\n",
      "11/11 [==============================] - 1s 74ms/step - loss: 0.5383 - accuracy: 0.9130 - val_loss: 1.4870 - val_accuracy: 0.6203\n",
      "Epoch 13/100\n",
      "11/11 [==============================] - 1s 72ms/step - loss: 0.4349 - accuracy: 0.9301 - val_loss: 1.3749 - val_accuracy: 0.6504\n",
      "Epoch 14/100\n",
      "11/11 [==============================] - 1s 73ms/step - loss: 0.3740 - accuracy: 0.9384 - val_loss: 1.3074 - val_accuracy: 0.6541\n",
      "Epoch 15/100\n",
      "11/11 [==============================] - 1s 73ms/step - loss: 0.3262 - accuracy: 0.9448 - val_loss: 1.3100 - val_accuracy: 0.6391\n",
      "Epoch 16/100\n",
      "11/11 [==============================] - 1s 77ms/step - loss: 0.2751 - accuracy: 0.9594 - val_loss: 1.3742 - val_accuracy: 0.5977\n",
      "Epoch 17/100\n",
      "11/11 [==============================] - 1s 74ms/step - loss: 0.2734 - accuracy: 0.9560 - val_loss: 1.1949 - val_accuracy: 0.6880\n",
      "Epoch 18/100\n",
      "11/11 [==============================] - 1s 73ms/step - loss: 0.2146 - accuracy: 0.9707 - val_loss: 1.2771 - val_accuracy: 0.6880\n",
      "Epoch 19/100\n",
      "11/11 [==============================] - 1s 73ms/step - loss: 0.1883 - accuracy: 0.9761 - val_loss: 1.2149 - val_accuracy: 0.7068\n",
      "Epoch 20/100\n",
      "11/11 [==============================] - 1s 73ms/step - loss: 0.1468 - accuracy: 0.9819 - val_loss: 1.1850 - val_accuracy: 0.7105\n",
      "Epoch 21/100\n",
      "11/11 [==============================] - 1s 79ms/step - loss: 0.1392 - accuracy: 0.9829 - val_loss: 1.1178 - val_accuracy: 0.7406\n",
      "Epoch 22/100\n",
      "11/11 [==============================] - 1s 74ms/step - loss: 0.1162 - accuracy: 0.9888 - val_loss: 1.0967 - val_accuracy: 0.7293\n",
      "Epoch 23/100\n",
      "11/11 [==============================] - 1s 74ms/step - loss: 0.1045 - accuracy: 0.9883 - val_loss: 1.1559 - val_accuracy: 0.7293\n",
      "Epoch 24/100\n",
      "11/11 [==============================] - 1s 75ms/step - loss: 0.0932 - accuracy: 0.9902 - val_loss: 1.1576 - val_accuracy: 0.7218\n",
      "Epoch 25/100\n",
      "11/11 [==============================] - 1s 76ms/step - loss: 0.0757 - accuracy: 0.9956 - val_loss: 1.1735 - val_accuracy: 0.7030\n",
      "Epoch 26/100\n",
      "11/11 [==============================] - 1s 75ms/step - loss: 0.0733 - accuracy: 0.9936 - val_loss: 1.1958 - val_accuracy: 0.7256\n",
      "Epoch 27/100\n",
      "11/11 [==============================] - 1s 76ms/step - loss: 0.0662 - accuracy: 0.9961 - val_loss: 1.0710 - val_accuracy: 0.7632\n",
      "Epoch 28/100\n",
      "11/11 [==============================] - 1s 73ms/step - loss: 0.0560 - accuracy: 0.9980 - val_loss: 1.1152 - val_accuracy: 0.7481\n",
      "Epoch 29/100\n",
      "11/11 [==============================] - 1s 75ms/step - loss: 0.0514 - accuracy: 0.9990 - val_loss: 1.0733 - val_accuracy: 0.7519\n",
      "Epoch 30/100\n",
      "11/11 [==============================] - 1s 74ms/step - loss: 0.0496 - accuracy: 0.9980 - val_loss: 1.0504 - val_accuracy: 0.7594\n",
      "Epoch 31/100\n",
      "11/11 [==============================] - 1s 76ms/step - loss: 0.0443 - accuracy: 0.9985 - val_loss: 1.1037 - val_accuracy: 0.7481\n",
      "Epoch 32/100\n",
      "11/11 [==============================] - 1s 80ms/step - loss: 0.0452 - accuracy: 0.9976 - val_loss: 1.1125 - val_accuracy: 0.7669\n",
      "Epoch 33/100\n",
      "11/11 [==============================] - 1s 80ms/step - loss: 0.0398 - accuracy: 0.9990 - val_loss: 1.0287 - val_accuracy: 0.7669\n",
      "Epoch 34/100\n",
      "11/11 [==============================] - 1s 79ms/step - loss: 0.0348 - accuracy: 0.9985 - val_loss: 1.0480 - val_accuracy: 0.7820\n",
      "Epoch 35/100\n",
      "11/11 [==============================] - 1s 74ms/step - loss: 0.0304 - accuracy: 0.9995 - val_loss: 1.0555 - val_accuracy: 0.7632\n",
      "Epoch 36/100\n",
      "11/11 [==============================] - 1s 77ms/step - loss: 0.0271 - accuracy: 0.9995 - val_loss: 1.0440 - val_accuracy: 0.7744\n",
      "Epoch 37/100\n",
      "11/11 [==============================] - 1s 88ms/step - loss: 0.0241 - accuracy: 0.9995 - val_loss: 1.0798 - val_accuracy: 0.7669\n",
      "Epoch 38/100\n",
      "11/11 [==============================] - 1s 80ms/step - loss: 0.0222 - accuracy: 1.0000 - val_loss: 1.0136 - val_accuracy: 0.7895\n",
      "Epoch 39/100\n",
      "11/11 [==============================] - 1s 74ms/step - loss: 0.0198 - accuracy: 1.0000 - val_loss: 1.0482 - val_accuracy: 0.7669\n",
      "Epoch 40/100\n",
      "11/11 [==============================] - 1s 76ms/step - loss: 0.0203 - accuracy: 1.0000 - val_loss: 1.1072 - val_accuracy: 0.7669\n",
      "Epoch 41/100\n",
      "11/11 [==============================] - 1s 76ms/step - loss: 0.0192 - accuracy: 1.0000 - val_loss: 1.0277 - val_accuracy: 0.7857\n",
      "Epoch 42/100\n",
      "11/11 [==============================] - 1s 79ms/step - loss: 0.0181 - accuracy: 1.0000 - val_loss: 1.0282 - val_accuracy: 0.7744\n",
      "Epoch 43/100\n",
      "11/11 [==============================] - 1s 77ms/step - loss: 0.0169 - accuracy: 1.0000 - val_loss: 1.1449 - val_accuracy: 0.7594\n",
      "Epoch 44/100\n",
      "11/11 [==============================] - 1s 75ms/step - loss: 0.0167 - accuracy: 1.0000 - val_loss: 1.0458 - val_accuracy: 0.7744\n",
      "Epoch 45/100\n",
      "11/11 [==============================] - 1s 77ms/step - loss: 0.0160 - accuracy: 0.9995 - val_loss: 1.1463 - val_accuracy: 0.7669\n",
      "Epoch 46/100\n",
      "11/11 [==============================] - 1s 80ms/step - loss: 0.0162 - accuracy: 0.9995 - val_loss: 1.1346 - val_accuracy: 0.7707\n",
      "Epoch 47/100\n",
      "11/11 [==============================] - 1s 77ms/step - loss: 0.0154 - accuracy: 0.9995 - val_loss: 1.0890 - val_accuracy: 0.7895\n",
      "Epoch 48/100\n",
      "11/11 [==============================] - 1s 75ms/step - loss: 0.0149 - accuracy: 0.9995 - val_loss: 1.0536 - val_accuracy: 0.7782\n",
      "Epoch 49/100\n",
      "11/11 [==============================] - 1s 76ms/step - loss: 0.0132 - accuracy: 1.0000 - val_loss: 1.0214 - val_accuracy: 0.7895\n",
      "Epoch 50/100\n",
      "11/11 [==============================] - 1s 76ms/step - loss: 0.0123 - accuracy: 1.0000 - val_loss: 1.1251 - val_accuracy: 0.7707\n",
      "Epoch 51/100\n",
      "11/11 [==============================] - 1s 81ms/step - loss: 0.0112 - accuracy: 1.0000 - val_loss: 1.0373 - val_accuracy: 0.8008\n",
      "Epoch 52/100\n",
      "11/11 [==============================] - 1s 81ms/step - loss: 0.0111 - accuracy: 1.0000 - val_loss: 1.1183 - val_accuracy: 0.7744\n",
      "Epoch 53/100\n",
      "11/11 [==============================] - 1s 87ms/step - loss: 0.0095 - accuracy: 1.0000 - val_loss: 1.0430 - val_accuracy: 0.7932\n",
      "Epoch 00053: early stopping\n",
      "CNN Error: 20.68%\n"
     ]
    }
   ],
   "source": [
    "# build the model\n",
    "pose_cnn = build_cnn(input_shape)\n",
    "# Fit the model\n",
    "es = EarlyStopping(monitor='val_loss', mode='min', verbose=1, patience=15)\n",
    "pose_cnn_history = pose_cnn.fit(X_train, y_train, validation_data=(X_test, y_test), epochs=100, batch_size=200, callbacks=es)\n",
    "# Final evaluation of the model\n",
    "scores = pose_cnn.evaluate(X_test, y_test, verbose=0)\n",
    "print(\"CNN Error: %.2f%%\" % (100-scores[1]*100))"
   ]
  },
  {
   "cell_type": "code",
   "execution_count": 9,
   "metadata": {},
   "outputs": [
    {
     "data": {
      "text/plain": [
       "<matplotlib.axes._subplots.AxesSubplot at 0x7ff1284a62e0>"
      ]
     },
     "execution_count": 9,
     "metadata": {},
     "output_type": "execute_result"
    },
    {
     "data": {
      "image/png": "[encoded data removed]",
      "text/plain": [
       "<Figure size 432x288 with 1 Axes>"
      ]
     },
     "metadata": {
      "needs_background": "light"
     },
     "output_type": "display_data"
    }
   ],
   "source": [
    "pd.DataFrame(pose_cnn_history.history).plot()"
   ]
  },
  {
   "cell_type": "code",
   "execution_count": null,
   "metadata": {},
   "outputs": [],
   "source": []
  },
  {
   "cell_type": "markdown",
   "metadata": {},
   "source": [
    "### Large Convolutional Neural Net"
   ]
  },
  {
   "cell_type": "code",
   "execution_count": 30,
   "metadata": {},
   "outputs": [
    {
     "name": "stdout",
     "output_type": "stream",
     "text": [
      "Epoch 1/15\n",
      "11/11 [==============================] - 1s 103ms/step - loss: 4.2200 - accuracy: 0.0122 - val_loss: 4.2167 - val_accuracy: 0.0150\n",
      "Epoch 2/15\n",
      "11/11 [==============================] - 1s 95ms/step - loss: 4.2142 - accuracy: 0.0191 - val_loss: 4.2097 - val_accuracy: 0.0301\n",
      "Epoch 3/15\n",
      "11/11 [==============================] - 1s 95ms/step - loss: 4.2021 - accuracy: 0.0171 - val_loss: 4.1874 - val_accuracy: 0.0150\n",
      "Epoch 4/15\n",
      "11/11 [==============================] - 1s 93ms/step - loss: 4.1568 - accuracy: 0.0440 - val_loss: 4.1303 - val_accuracy: 0.0338\n",
      "Epoch 5/15\n",
      "11/11 [==============================] - 1s 94ms/step - loss: 4.0402 - accuracy: 0.0611 - val_loss: 3.9576 - val_accuracy: 0.0714\n",
      "Epoch 6/15\n",
      "11/11 [==============================] - 1s 95ms/step - loss: 3.8013 - accuracy: 0.0743 - val_loss: 3.7223 - val_accuracy: 0.1053\n",
      "Epoch 7/15\n",
      "11/11 [==============================] - 1s 95ms/step - loss: 3.4078 - accuracy: 0.1486 - val_loss: 3.4101 - val_accuracy: 0.1504\n",
      "Epoch 8/15\n",
      "11/11 [==============================] - 1s 103ms/step - loss: 2.8714 - accuracy: 0.2708 - val_loss: 2.8993 - val_accuracy: 0.2669\n",
      "Epoch 9/15\n",
      "11/11 [==============================] - 1s 96ms/step - loss: 2.3859 - accuracy: 0.3685 - val_loss: 2.6904 - val_accuracy: 0.2744\n",
      "Epoch 10/15\n",
      "11/11 [==============================] - 1s 95ms/step - loss: 2.0354 - accuracy: 0.4433 - val_loss: 2.2605 - val_accuracy: 0.3609\n",
      "Epoch 11/15\n",
      "11/11 [==============================] - 1s 98ms/step - loss: 1.6632 - accuracy: 0.5699 - val_loss: 2.0283 - val_accuracy: 0.4474\n",
      "Epoch 12/15\n",
      "11/11 [==============================] - 1s 96ms/step - loss: 1.3709 - accuracy: 0.6354 - val_loss: 1.9344 - val_accuracy: 0.4962\n",
      "Epoch 13/15\n",
      "11/11 [==============================] - 1s 96ms/step - loss: 1.1960 - accuracy: 0.6862 - val_loss: 1.8077 - val_accuracy: 0.5150\n",
      "Epoch 14/15\n",
      "11/11 [==============================] - 1s 96ms/step - loss: 1.0760 - accuracy: 0.7141 - val_loss: 1.7191 - val_accuracy: 0.5188\n",
      "Epoch 15/15\n",
      "11/11 [==============================] - 1s 96ms/step - loss: 0.9002 - accuracy: 0.7669 - val_loss: 1.6002 - val_accuracy: 0.6241\n",
      "Large CNN Error: 37.59%\n"
     ]
    }
   ],
   "source": [
    "# build the model\n",
    "large_cnn = cnn(input_shape)\n",
    "# Fit the model\n",
    "large_cnn_history = large_cnn.fit(X_train, y_train, validation_data=(X_test, y_test), epochs=15, batch_size=200)\n",
    "# Final evaluation of the model\n",
    "scores = large_cnn.evaluate(X_test, y_test, verbose=0)\n",
    "print(\"Large CNN Error: %.2f%%\" % (100-scores[1]*100))"
   ]
  },
  {
   "cell_type": "code",
   "execution_count": 31,
   "metadata": {},
   "outputs": [
    {
     "data": {
      "text/plain": [
       "<matplotlib.axes._subplots.AxesSubplot at 0x7ff11fc59910>"
      ]
     },
     "execution_count": 31,
     "metadata": {},
     "output_type": "execute_result"
    },
    {
     "data": {
      "image/png": "[encoded data removed]",
      "text/plain": [
       "<Figure size 432x288 with 1 Axes>"
      ]
     },
     "metadata": {
      "needs_background": "light"
     },
     "output_type": "display_data"
    }
   ],
   "source": [
    "pd.DataFrame(dict(large_cnn_history.history)).plot()"
   ]
  },
  {
   "cell_type": "code",
   "execution_count": null,
   "metadata": {},
   "outputs": [],
   "source": []
  },
  {
   "cell_type": "markdown",
   "metadata": {},
   "source": [
    "## MNIST"
   ]
  },
  {
   "cell_type": "code",
   "execution_count": 56,
   "metadata": {},
   "outputs": [],
   "source": [
    "#load mnist data\n",
    "(X_train, y_train), (X_test, y_test) = mnist.load_data()"
   ]
  },
  {
   "cell_type": "code",
   "execution_count": 57,
   "metadata": {},
   "outputs": [
    {
     "data": {
      "image/png": "[encoded data removed]",
      "text/plain": [
       "<Figure size 432x288 with 4 Axes>"
      ]
     },
     "metadata": {
      "needs_background": "light"
     },
     "output_type": "display_data"
    }
   ],
   "source": [
    "# view mnist data\n",
    "plt.subplot(221)\n",
    "plt.imshow(X_train[0], cmap=plt.get_cmap('gray'))\n",
    "plt.subplot(222)\n",
    "plt.imshow(X_train[1], cmap=plt.get_cmap('gray'))\n",
    "plt.subplot(223)\n",
    "plt.imshow(X_train[2], cmap=plt.get_cmap('gray'))\n",
    "plt.subplot(224)\n",
    "plt.imshow(X_train[3], cmap=plt.get_cmap('gray'))\n",
    "# show the plot\n",
    "plt.show()"
   ]
  },
  {
   "cell_type": "markdown",
   "metadata": {},
   "source": [
    "#### Data Preprocessing"
   ]
  },
  {
   "cell_type": "code",
   "execution_count": 58,
   "metadata": {},
   "outputs": [],
   "source": [
    "#expand dimension to include number channels\n",
    "X_train = X_train.reshape((X_train.shape[0], 28, 28, 1)).astype('float32')\n",
    "X_test = X_test.reshape((X_test.shape[0], 28, 28, 1)).astype('float32')\n",
    "\n",
    "# normalize inputs from 0-255 to 0-1\n",
    "X_train = X_train / 255\n",
    "X_test = X_test / 255\n",
    "# one hot encode outputs\n",
    "y_train = np_utils.to_categorical(y_train)\n",
    "y_test = np_utils.to_categorical(y_test)\n",
    "\n",
    "num_classes = y_test.shape[1]\n",
    "num_pixels = X_train.shape[1] * X_train.shape[2]\n",
    "\n",
    "#flattened versions of data for sequentail model\n",
    "X_train_flat = X_train.reshape((X_train.shape[0], num_pixels)).astype('float32')\n",
    "X_test_flat = X_test.reshape((X_test.shape[0], num_pixels)).astype('float32')"
   ]
  },
  {
   "cell_type": "markdown",
   "metadata": {},
   "source": [
    "### Simple Sequential Network"
   ]
  },
  {
   "cell_type": "code",
   "execution_count": 52,
   "metadata": {},
   "outputs": [
    {
     "name": "stdout",
     "output_type": "stream",
     "text": [
      "Epoch 1/10\n",
      "11/11 - 0s - loss: 6.2141 - accuracy: 0.0293 - val_loss: 5.7686 - val_accuracy: 0.0301\n",
      "Epoch 2/10\n",
      "11/11 - 0s - loss: 4.5497 - accuracy: 0.1022 - val_loss: 4.0825 - val_accuracy: 0.0902\n",
      "Epoch 3/10\n",
      "11/11 - 0s - loss: 3.4987 - accuracy: 0.2199 - val_loss: 3.5931 - val_accuracy: 0.1579\n",
      "Epoch 4/10\n",
      "11/11 - 0s - loss: 3.0485 - accuracy: 0.3568 - val_loss: 3.5516 - val_accuracy: 0.0977\n",
      "Epoch 5/10\n",
      "11/11 - 0s - loss: 2.6345 - accuracy: 0.4780 - val_loss: 3.1489 - val_accuracy: 0.2556\n",
      "Epoch 6/10\n",
      "11/11 - 0s - loss: 2.2452 - accuracy: 0.5968 - val_loss: 2.8484 - val_accuracy: 0.3571\n",
      "Epoch 7/10\n",
      "11/11 - 0s - loss: 1.9214 - accuracy: 0.6745 - val_loss: 2.7247 - val_accuracy: 0.3609\n",
      "Epoch 8/10\n",
      "11/11 - 0s - loss: 1.6413 - accuracy: 0.7449 - val_loss: 2.5344 - val_accuracy: 0.4060\n",
      "Epoch 9/10\n",
      "11/11 - 0s - loss: 1.4040 - accuracy: 0.8021 - val_loss: 2.4427 - val_accuracy: 0.3722\n",
      "Epoch 10/10\n",
      "11/11 - 0s - loss: 1.2495 - accuracy: 0.8216 - val_loss: 2.3095 - val_accuracy: 0.4323\n",
      "Baseline Error: 56.77%\n"
     ]
    }
   ],
   "source": [
    "# build the model\n",
    "mnist_sequential = build_sequential(num_classes)\n",
    "# Fit the model\n",
    "mnist_sequential.fit(X_train_flat, y_train, validation_data=(X_test_flat, y_test), epochs=10, batch_size=200, verbose=2)\n",
    "# Final evaluation of the model\n",
    "scores = mnist_sequential.evaluate(X_test_flat, y_test, verbose=0)\n",
    "print(\"Baseline Error: %.2f%%\" % (100-scores[1]*100))"
   ]
  },
  {
   "cell_type": "markdown",
   "metadata": {},
   "source": [
    "### Convolutional Neural Net"
   ]
  },
  {
   "cell_type": "code",
   "execution_count": 61,
   "metadata": {},
   "outputs": [],
   "source": [
    "input_shape = (X_train.shape[1],X_train.shape[2],1)"
   ]
  },
  {
   "cell_type": "code",
   "execution_count": 62,
   "metadata": {},
   "outputs": [
    {
     "name": "stdout",
     "output_type": "stream",
     "text": [
      "Epoch 1/5\n",
      "300/300 [==============================] - 9s 30ms/step - loss: 0.2419 - accuracy: 0.9292 - val_loss: 0.0821 - val_accuracy: 0.9743\n",
      "Epoch 2/5\n",
      "300/300 [==============================] - 9s 30ms/step - loss: 0.0753 - accuracy: 0.9780 - val_loss: 0.0497 - val_accuracy: 0.9840\n",
      "Epoch 3/5\n",
      "300/300 [==============================] - 9s 29ms/step - loss: 0.0527 - accuracy: 0.9840 - val_loss: 0.0430 - val_accuracy: 0.9861\n",
      "Epoch 4/5\n",
      "300/300 [==============================] - 9s 29ms/step - loss: 0.0412 - accuracy: 0.9873 - val_loss: 0.0359 - val_accuracy: 0.9882\n",
      "Epoch 5/5\n",
      "300/300 [==============================] - 9s 30ms/step - loss: 0.0335 - accuracy: 0.9898 - val_loss: 0.0334 - val_accuracy: 0.9893\n",
      "CNN Error: 1.07%\n"
     ]
    }
   ],
   "source": [
    "# build the model\n",
    "mnist_cnn = build_cnn(input_shape)\n",
    "# Fit the model\n",
    "mnist_cnn.fit(X_train, y_train, validation_data=(X_test, y_test), epochs=5, batch_size=200)\n",
    "# Final evaluation of the model\n",
    "scores = mnist_cnn.evaluate(X_test, y_test, verbose=0)\n",
    "print(\"CNN Error: %.2f%%\" % (100-scores[1]*100))"
   ]
  },
  {
   "cell_type": "markdown",
   "metadata": {},
   "source": [
    "### Large Convolutional Neural Net"
   ]
  },
  {
   "cell_type": "code",
   "execution_count": 63,
   "metadata": {},
   "outputs": [
    {
     "name": "stdout",
     "output_type": "stream",
     "text": [
      "Epoch 1/2\n",
      "300/300 [==============================] - 13s 44ms/step - loss: 0.3968 - accuracy: 0.8780 - val_loss: 0.0830 - val_accuracy: 0.9760\n",
      "Epoch 2/2\n",
      "300/300 [==============================] - 13s 43ms/step - loss: 0.0981 - accuracy: 0.9700 - val_loss: 0.0491 - val_accuracy: 0.9834\n",
      "Large CNN Error: 1.66%\n"
     ]
    }
   ],
   "source": [
    "# build the model\n",
    "mnist_large_cnn = build_large_cnn(input_shape)\n",
    "# Fit the model\n",
    "mnist_large_cnn.fit(X_train, y_train, validation_data=(X_test, y_test), epochs=2, batch_size=200)\n",
    "# Final evaluation of the model\n",
    "scores = mnist_large_cnn.evaluate(X_test, y_test, verbose=0)\n",
    "print(\"Large CNN Error: %.2f%%\" % (100-scores[1]*100))"
   ]
  }
 ],
 "metadata": {
  "kernelspec": {
   "display_name": "Python 3",
   "language": "python",
   "name": "python3"
  },
  "language_info": {
   "codemirror_mode": {
    "name": "ipython",
    "version": 3
   },
   "file_extension": ".py",
   "mimetype": "text/x-python",
   "name": "python",
   "nbconvert_exporter": "python",
   "pygments_lexer": "ipython3",
   "version": "3.8.3"
  }
 },
 "nbformat": 4,
 "nbformat_minor": 4
}
