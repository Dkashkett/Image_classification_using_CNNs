{
 "cells": [
  {
   "cell_type": "markdown",
   "metadata": {},
   "source": [
    "# Project 2: Neural Networks for Image Classification"
   ]
  },
  {
   "cell_type": "code",
   "execution_count": 1,
   "metadata": {},
   "outputs": [],
   "source": [
    "import numpy as np\n",
    "import pandas as pd\n",
    "import matplotlib.pyplot as plt\n",
    "from scipy.io import loadmat"
   ]
  },
  {
   "cell_type": "code",
   "execution_count": 2,
   "metadata": {},
   "outputs": [],
   "source": [
    "import tensorflow as tf\n",
    "from keras.datasets import mnist\n",
    "from keras.models import Sequential\n",
    "from keras.layers import Dense\n",
    "from keras.utils import np_utils\n",
    "from keras.layers import Flatten\n",
    "from keras.layers.convolutional import Conv2D, MaxPooling2D\n",
    "from keras.layers import Dropout\n",
    "from sklearn.model_selection import train_test_split"
   ]
  },
  {
   "cell_type": "code",
   "execution_count": 3,
   "metadata": {},
   "outputs": [],
   "source": [
    "#load data chunks and converts to numpy arrays\n",
    "def load_pose_data():\n",
    "    pose = np.array(loadmat('./data/pose.mat')['pose'])\n",
    "    illum = np.array(loadmat('./data/illumination.mat')['illum'])\n",
    "    return pose, illum\n",
    "\n",
    "def make_pose_dataset(pose, illum, test_size = .3):\n",
    "    pose_data = []\n",
    "    pose_labels = []\n",
    "    for subject in range(68):\n",
    "        for img in range(13):\n",
    "            pose_data.append(pose[:,:,img,subject])\n",
    "            pose_labels.append(subject)\n",
    "            \n",
    "    pose_data = np.array(pose_data)\n",
    "    pose_labels = np.transpose(np.array(pose_labels))\n",
    "    \n",
    "    X_train, X_test, y_train, y_test = train_test_split(pose_data, pose_labels, test_size=test_size, random_state=31, stratify=pose_labels)\n",
    "    X_train, y_train = list(X_train), list(y_train)\n",
    "    \n",
    "    for subject in range(68):\n",
    "        for img in range(21):\n",
    "            image = illum[:,img,subject].reshape((40,48))\n",
    "            image = np.flip(np.rot90(image))\n",
    "            X_train.append(image)\n",
    "            y_train.append(subject)\n",
    "            \n",
    "    X_train, y_train = np.array(X_train), np.array(y_train)\n",
    "    \n",
    "    return X_train, X_test, y_train, y_test"
   ]
  },
  {
   "cell_type": "markdown",
   "metadata": {},
   "source": [
    "### Networks\n",
    "##### Below are functions to create the three neural networks architectures that I will be testing. The first is a very simple, shallow sequential NN, the second is a CNN, and the third is a deeper CNN."
   ]
  },
  {
   "cell_type": "code",
   "execution_count": 48,
   "metadata": {},
   "outputs": [],
   "source": [
    "#networks\n",
    "def build_sequential(num_classes):\n",
    "    # create model\n",
    "    model = Sequential()\n",
    "    model.add(Dense(num_pixels, input_dim=num_pixels, kernel_initializer='normal', activation='relu'))\n",
    "    model.add(Dense(num_classes, kernel_initializer='normal', activation='softmax'))\n",
    "    # Compile model\n",
    "    model.compile(loss='categorical_crossentropy', optimizer='adam', metrics=['accuracy'])\n",
    "    return model\n",
    "\n",
    "def build_cnn(input_shape):\n",
    "    # create model\n",
    "    model = Sequential()\n",
    "    model.add(Conv2D(32, (5, 5), input_shape=input_shape, activation='relu'))\n",
    "    model.add(MaxPooling2D())\n",
    "    model.add(Dropout(0.2))\n",
    "    model.add(Flatten())\n",
    "    model.add(Dense(128, activation='relu'))\n",
    "    model.add(Dense(num_classes, activation='softmax'))\n",
    "    # Compile model\n",
    "    model.compile(loss='categorical_crossentropy', optimizer='adam', metrics=['accuracy'])\n",
    "    return model\n",
    "\n",
    "def build_large_cnn(input_shape):\n",
    "    # create model\n",
    "    model = Sequential()\n",
    "    model.add(Conv2D(30, (5, 5), input_shape=(input_shape), activation='relu'))\n",
    "    model.add(MaxPooling2D())\n",
    "    model.add(Conv2D(15, (3, 3), activation='relu'))\n",
    "    model.add(MaxPooling2D())\n",
    "    model.add(Dropout(0.2))\n",
    "    model.add(Flatten())\n",
    "    model.add(Dense(128, activation='relu'))\n",
    "    model.add(Dense(50, activation='relu'))\n",
    "    model.add(Dense(num_classes, activation='softmax'))\n",
    "    # Compile model\n",
    "    model.compile(loss='categorical_crossentropy', optimizer='adam', metrics=['accuracy'])\n",
    "    return model\n"
   ]
  },
  {
   "cell_type": "markdown",
   "metadata": {},
   "source": [
    "## POSE Dataset\n",
    "##### I will first test these architectures on the POSE data from project 1."
   ]
  },
  {
   "cell_type": "code",
   "execution_count": 64,
   "metadata": {},
   "outputs": [],
   "source": [
    "#load pose data\n",
    "pose, illum = load_pose_data()\n",
    "X_train, X_test, y_train, y_test = make_pose_dataset(pose, illum)\n",
    "\n",
    "#expand dimension to include number channels\n",
    "X_train = X_train.reshape((X_train.shape[0], 48, 40, 1)).astype('float32')\n",
    "X_test = X_test.reshape((X_test.shape[0], 48, 40, 1)).astype('float32')\n",
    "\n",
    "# normalize inputs from 0-255 to 0-1\n",
    "X_train = X_train / 255\n",
    "X_test = X_test / 255\n",
    "# one hot encode outputs\n",
    "y_train = np_utils.to_categorical(y_train)\n",
    "y_test = np_utils.to_categorical(y_test)\n",
    "\n",
    "num_classes = y_test.shape[1]\n",
    "num_pixels = X_train.shape[1] * X_train.shape[2]\n",
    "\n",
    "#flattened versions of data for sequentail model\n",
    "X_train_flat = X_train.reshape((X_train.shape[0], num_pixels)).astype('float32')\n",
    "X_test_flat = X_test.reshape((X_test.shape[0], num_pixels)).astype('float32')"
   ]
  },
  {
   "cell_type": "code",
   "execution_count": null,
   "metadata": {},
   "outputs": [],
   "source": [
    "# view pose data\n",
    "imgs = X_train[:4].reshape((4,48,40))\n",
    "plt.subplot(221)\n",
    "plt.imshow(imgs[0], cmap=plt.get_cmap('gray'))\n",
    "plt.subplot(222)\n",
    "plt.imshow(imgs[1], cmap=plt.get_cmap('gray'))\n",
    "plt.subplot(223)\n",
    "plt.imshow(imgs[2], cmap=plt.get_cmap('gray'))\n",
    "plt.subplot(224)\n",
    "plt.imshow(imgs[3], cmap=plt.get_cmap('gray'))\n",
    "# show the plot\n",
    "plt.show()"
   ]
  },
  {
   "cell_type": "markdown",
   "metadata": {},
   "source": [
    "### Simple Sequential Model"
   ]
  },
  {
   "cell_type": "code",
   "execution_count": 51,
   "metadata": {},
   "outputs": [
    {
     "name": "stdout",
     "output_type": "stream",
     "text": [
      "Epoch 1/10\n",
      "11/11 - 0s - loss: 6.4104 - accuracy: 0.0249 - val_loss: 7.0308 - val_accuracy: 0.0226\n",
      "Epoch 2/10\n",
      "11/11 - 0s - loss: 5.2374 - accuracy: 0.0748 - val_loss: 4.7197 - val_accuracy: 0.1128\n",
      "Epoch 3/10\n",
      "11/11 - 0s - loss: 3.9267 - accuracy: 0.1891 - val_loss: 3.9123 - val_accuracy: 0.1429\n",
      "Epoch 4/10\n",
      "11/11 - 0s - loss: 3.2305 - accuracy: 0.3490 - val_loss: 3.5258 - val_accuracy: 0.1654\n",
      "Epoch 5/10\n",
      "11/11 - 0s - loss: 2.7120 - accuracy: 0.4795 - val_loss: 3.1213 - val_accuracy: 0.2932\n",
      "Epoch 6/10\n",
      "11/11 - 0s - loss: 2.3559 - accuracy: 0.5836 - val_loss: 3.1808 - val_accuracy: 0.2293\n",
      "Epoch 7/10\n",
      "11/11 - 0s - loss: 2.0525 - accuracy: 0.6549 - val_loss: 2.8197 - val_accuracy: 0.2932\n",
      "Epoch 8/10\n",
      "11/11 - 0s - loss: 1.7480 - accuracy: 0.7322 - val_loss: 2.5791 - val_accuracy: 0.3496\n",
      "Epoch 9/10\n",
      "11/11 - 0s - loss: 1.5703 - accuracy: 0.7522 - val_loss: 2.4999 - val_accuracy: 0.4286\n",
      "Epoch 10/10\n",
      "11/11 - 0s - loss: 1.3010 - accuracy: 0.8196 - val_loss: 2.3143 - val_accuracy: 0.4248\n",
      "Baseline Error: 57.52%\n"
     ]
    }
   ],
   "source": [
    "# build the model\n",
    "pose_sequential = build_sequential(num_classes)\n",
    "# Fit the model\n",
    "pose_sequential.fit(X_train_flat, y_train, validation_data=(X_test_flat, y_test), epochs=10, batch_size=200, verbose=2)\n",
    "# Final evaluation of the model\n",
    "scores = pose_sequential.evaluate(X_test_flat, y_test, verbose=0)\n",
    "print(\"Baseline Error: %.2f%%\" % (100-scores[1]*100))"
   ]
  },
  {
   "cell_type": "markdown",
   "metadata": {},
   "source": [
    "### Convolutional Neural Net"
   ]
  },
  {
   "cell_type": "code",
   "execution_count": 34,
   "metadata": {},
   "outputs": [],
   "source": [
    "input_shape = (X_train.shape[1],X_train.shape[2],1)"
   ]
  },
  {
   "cell_type": "code",
   "execution_count": 35,
   "metadata": {},
   "outputs": [
    {
     "name": "stdout",
     "output_type": "stream",
     "text": [
      "Epoch 1/5\n",
      "11/11 [==============================] - 1s 77ms/step - loss: 4.2154 - accuracy: 0.0308 - val_loss: 4.1510 - val_accuracy: 0.0677\n",
      "Epoch 2/5\n",
      "11/11 [==============================] - 1s 73ms/step - loss: 4.0216 - accuracy: 0.1197 - val_loss: 4.0080 - val_accuracy: 0.0338\n",
      "Epoch 3/5\n",
      "11/11 [==============================] - 1s 70ms/step - loss: 3.7119 - accuracy: 0.1691 - val_loss: 3.6689 - val_accuracy: 0.1466\n",
      "Epoch 4/5\n",
      "11/11 [==============================] - 1s 71ms/step - loss: 3.2112 - accuracy: 0.3490 - val_loss: 3.3631 - val_accuracy: 0.1767\n",
      "Epoch 5/5\n",
      "11/11 [==============================] - 1s 74ms/step - loss: 2.6585 - accuracy: 0.4927 - val_loss: 3.1571 - val_accuracy: 0.1805\n",
      "CNN Error: 81.95%\n"
     ]
    }
   ],
   "source": [
    "# build the model\n",
    "pose_cnn = build_cnn(input_shape)\n",
    "# Fit the model\n",
    "pose_cnn.fit(X_train, y_train, validation_data=(X_test, y_test), epochs=5, batch_size=200)\n",
    "# Final evaluation of the model\n",
    "scores = pose_cnn.evaluate(X_test, y_test, verbose=0)\n",
    "print(\"CNN Error: %.2f%%\" % (100-scores[1]*100))"
   ]
  },
  {
   "cell_type": "markdown",
   "metadata": {},
   "source": [
    "### Large Convolutional Neural Net"
   ]
  },
  {
   "cell_type": "code",
   "execution_count": 36,
   "metadata": {},
   "outputs": [
    {
     "name": "stdout",
     "output_type": "stream",
     "text": [
      "Epoch 1/5\n",
      "11/11 [==============================] - 1s 105ms/step - loss: 4.2228 - accuracy: 0.0132 - val_loss: 4.2162 - val_accuracy: 0.0150\n",
      "Epoch 2/5\n",
      "11/11 [==============================] - 1s 98ms/step - loss: 4.2137 - accuracy: 0.0225 - val_loss: 4.2074 - val_accuracy: 0.0113\n",
      "Epoch 3/5\n",
      "11/11 [==============================] - 1s 98ms/step - loss: 4.1995 - accuracy: 0.0249 - val_loss: 4.1884 - val_accuracy: 0.0226\n",
      "Epoch 4/5\n",
      "11/11 [==============================] - 1s 94ms/step - loss: 4.1658 - accuracy: 0.0279 - val_loss: 4.1228 - val_accuracy: 0.0263\n",
      "Epoch 5/5\n",
      "11/11 [==============================] - 1s 93ms/step - loss: 4.0689 - accuracy: 0.0450 - val_loss: 3.9931 - val_accuracy: 0.0301\n",
      "Large CNN Error: 96.99%\n"
     ]
    }
   ],
   "source": [
    "# build the model\n",
    "large_cnn = build_large_cnn(input_shape)\n",
    "# Fit the model\n",
    "large_cnn.fit(X_train, y_train, validation_data=(X_test, y_test), epochs=5, batch_size=200)\n",
    "# Final evaluation of the model\n",
    "scores = large_cnn.evaluate(X_test, y_test, verbose=0)\n",
    "print(\"Large CNN Error: %.2f%%\" % (100-scores[1]*100))"
   ]
  },
  {
   "cell_type": "markdown",
   "metadata": {},
   "source": [
    "## MNIST"
   ]
  },
  {
   "cell_type": "code",
   "execution_count": 56,
   "metadata": {},
   "outputs": [],
   "source": [
    "#load mnist data\n",
    "(X_train, y_train), (X_test, y_test) = mnist.load_data()"
   ]
  },
  {
   "cell_type": "code",
   "execution_count": 57,
   "metadata": {},
   "outputs": [
    {
     "data": {
      "image/png": "[encoded data removed]",
      "text/plain": [
       "<Figure size 432x288 with 4 Axes>"
      ]
     },
     "metadata": {
      "needs_background": "light"
     },
     "output_type": "display_data"
    }
   ],
   "source": [
    "# view mnist data\n",
    "plt.subplot(221)\n",
    "plt.imshow(X_train[0], cmap=plt.get_cmap('gray'))\n",
    "plt.subplot(222)\n",
    "plt.imshow(X_train[1], cmap=plt.get_cmap('gray'))\n",
    "plt.subplot(223)\n",
    "plt.imshow(X_train[2], cmap=plt.get_cmap('gray'))\n",
    "plt.subplot(224)\n",
    "plt.imshow(X_train[3], cmap=plt.get_cmap('gray'))\n",
    "# show the plot\n",
    "plt.show()"
   ]
  },
  {
   "cell_type": "markdown",
   "metadata": {},
   "source": [
    "#### Data Preprocessing"
   ]
  },
  {
   "cell_type": "code",
   "execution_count": 58,
   "metadata": {},
   "outputs": [],
   "source": [
    "#expand dimension to include number channels\n",
    "X_train = X_train.reshape((X_train.shape[0], 28, 28, 1)).astype('float32')\n",
    "X_test = X_test.reshape((X_test.shape[0], 28, 28, 1)).astype('float32')\n",
    "\n",
    "# normalize inputs from 0-255 to 0-1\n",
    "X_train = X_train / 255\n",
    "X_test = X_test / 255\n",
    "# one hot encode outputs\n",
    "y_train = np_utils.to_categorical(y_train)\n",
    "y_test = np_utils.to_categorical(y_test)\n",
    "\n",
    "num_classes = y_test.shape[1]\n",
    "num_pixels = X_train.shape[1] * X_train.shape[2]\n",
    "\n",
    "#flattened versions of data for sequentail model\n",
    "X_train_flat = X_train.reshape((X_train.shape[0], num_pixels)).astype('float32')\n",
    "X_test_flat = X_test.reshape((X_test.shape[0], num_pixels)).astype('float32')"
   ]
  },
  {
   "cell_type": "markdown",
   "metadata": {},
   "source": [
    "### Simple Sequential Network"
   ]
  },
  {
   "cell_type": "code",
   "execution_count": 52,
   "metadata": {},
   "outputs": [
    {
     "name": "stdout",
     "output_type": "stream",
     "text": [
      "Epoch 1/10\n",
      "11/11 - 0s - loss: 6.2141 - accuracy: 0.0293 - val_loss: 5.7686 - val_accuracy: 0.0301\n",
      "Epoch 2/10\n",
      "11/11 - 0s - loss: 4.5497 - accuracy: 0.1022 - val_loss: 4.0825 - val_accuracy: 0.0902\n",
      "Epoch 3/10\n",
      "11/11 - 0s - loss: 3.4987 - accuracy: 0.2199 - val_loss: 3.5931 - val_accuracy: 0.1579\n",
      "Epoch 4/10\n",
      "11/11 - 0s - loss: 3.0485 - accuracy: 0.3568 - val_loss: 3.5516 - val_accuracy: 0.0977\n",
      "Epoch 5/10\n",
      "11/11 - 0s - loss: 2.6345 - accuracy: 0.4780 - val_loss: 3.1489 - val_accuracy: 0.2556\n",
      "Epoch 6/10\n",
      "11/11 - 0s - loss: 2.2452 - accuracy: 0.5968 - val_loss: 2.8484 - val_accuracy: 0.3571\n",
      "Epoch 7/10\n",
      "11/11 - 0s - loss: 1.9214 - accuracy: 0.6745 - val_loss: 2.7247 - val_accuracy: 0.3609\n",
      "Epoch 8/10\n",
      "11/11 - 0s - loss: 1.6413 - accuracy: 0.7449 - val_loss: 2.5344 - val_accuracy: 0.4060\n",
      "Epoch 9/10\n",
      "11/11 - 0s - loss: 1.4040 - accuracy: 0.8021 - val_loss: 2.4427 - val_accuracy: 0.3722\n",
      "Epoch 10/10\n",
      "11/11 - 0s - loss: 1.2495 - accuracy: 0.8216 - val_loss: 2.3095 - val_accuracy: 0.4323\n",
      "Baseline Error: 56.77%\n"
     ]
    }
   ],
   "source": [
    "# build the model\n",
    "mnist_sequential = build_sequential(num_classes)\n",
    "# Fit the model\n",
    "mnist_sequential.fit(X_train_flat, y_train, validation_data=(X_test_flat, y_test), epochs=10, batch_size=200, verbose=2)\n",
    "# Final evaluation of the model\n",
    "scores = mnist_sequential.evaluate(X_test_flat, y_test, verbose=0)\n",
    "print(\"Baseline Error: %.2f%%\" % (100-scores[1]*100))"
   ]
  },
  {
   "cell_type": "markdown",
   "metadata": {},
   "source": [
    "### Convolutional Neural Net"
   ]
  },
  {
   "cell_type": "code",
   "execution_count": 61,
   "metadata": {},
   "outputs": [],
   "source": [
    "input_shape = (X_train.shape[1],X_train.shape[2],1)"
   ]
  },
  {
   "cell_type": "code",
   "execution_count": 62,
   "metadata": {},
   "outputs": [
    {
     "name": "stdout",
     "output_type": "stream",
     "text": [
      "Epoch 1/5\n",
      "300/300 [==============================] - 9s 30ms/step - loss: 0.2419 - accuracy: 0.9292 - val_loss: 0.0821 - val_accuracy: 0.9743\n",
      "Epoch 2/5\n",
      "300/300 [==============================] - 9s 30ms/step - loss: 0.0753 - accuracy: 0.9780 - val_loss: 0.0497 - val_accuracy: 0.9840\n",
      "Epoch 3/5\n",
      "300/300 [==============================] - 9s 29ms/step - loss: 0.0527 - accuracy: 0.9840 - val_loss: 0.0430 - val_accuracy: 0.9861\n",
      "Epoch 4/5\n",
      "300/300 [==============================] - 9s 29ms/step - loss: 0.0412 - accuracy: 0.9873 - val_loss: 0.0359 - val_accuracy: 0.9882\n",
      "Epoch 5/5\n",
      "300/300 [==============================] - 9s 30ms/step - loss: 0.0335 - accuracy: 0.9898 - val_loss: 0.0334 - val_accuracy: 0.9893\n",
      "CNN Error: 1.07%\n"
     ]
    }
   ],
   "source": [
    "# build the model\n",
    "mnist_cnn = build_cnn(input_shape)\n",
    "# Fit the model\n",
    "mnist_cnn.fit(X_train, y_train, validation_data=(X_test, y_test), epochs=5, batch_size=200)\n",
    "# Final evaluation of the model\n",
    "scores = mnist_cnn.evaluate(X_test, y_test, verbose=0)\n",
    "print(\"CNN Error: %.2f%%\" % (100-scores[1]*100))"
   ]
  },
  {
   "cell_type": "markdown",
   "metadata": {},
   "source": [
    "### Large Convolutional Neural Net"
   ]
  },
  {
   "cell_type": "code",
   "execution_count": 63,
   "metadata": {},
   "outputs": [
    {
     "name": "stdout",
     "output_type": "stream",
     "text": [
      "Epoch 1/2\n",
      "300/300 [==============================] - 13s 44ms/step - loss: 0.3968 - accuracy: 0.8780 - val_loss: 0.0830 - val_accuracy: 0.9760\n",
      "Epoch 2/2\n",
      "300/300 [==============================] - 13s 43ms/step - loss: 0.0981 - accuracy: 0.9700 - val_loss: 0.0491 - val_accuracy: 0.9834\n",
      "Large CNN Error: 1.66%\n"
     ]
    }
   ],
   "source": [
    "# build the model\n",
    "mnist_large_cnn = build_large_cnn(input_shape)\n",
    "# Fit the model\n",
    "mnist_large_cnn.fit(X_train, y_train, validation_data=(X_test, y_test), epochs=2, batch_size=200)\n",
    "# Final evaluation of the model\n",
    "scores = mnist_large_cnn.evaluate(X_test, y_test, verbose=0)\n",
    "print(\"Large CNN Error: %.2f%%\" % (100-scores[1]*100))"
   ]
  }
 ],
 "metadata": {
  "kernelspec": {
   "display_name": "Python 3",
   "language": "python",
   "name": "python3"
  },
  "language_info": {
   "codemirror_mode": {
    "name": "ipython",
    "version": 3
   },
   "file_extension": ".py",
   "mimetype": "text/x-python",
   "name": "python",
   "nbconvert_exporter": "python",
   "pygments_lexer": "ipython3",
   "version": "3.8.3"
  }
 },
 "nbformat": 4,
 "nbformat_minor": 4
}
