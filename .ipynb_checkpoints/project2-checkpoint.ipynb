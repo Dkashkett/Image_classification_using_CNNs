{
 "cells": [
  {
   "cell_type": "markdown",
   "metadata": {},
   "source": [
    "# Project 2: Neural Networks for Image Classification"
   ]
  },
  {
   "cell_type": "code",
   "execution_count": 1,
   "metadata": {},
   "outputs": [],
   "source": [
    "import numpy as np\n",
    "import pandas as pd\n",
    "import matplotlib.pyplot as plt\n",
    "from scipy.io import loadmat"
   ]
  },
  {
   "cell_type": "code",
   "execution_count": 2,
   "metadata": {},
   "outputs": [],
   "source": [
    "import tensorflow as tf\n",
    "from keras.datasets import mnist\n",
    "from keras.models import Sequential\n",
    "from keras.layers import Dense\n",
    "from keras.utils import np_utils\n",
    "from keras.layers import Flatten\n",
    "from keras.layers.convolutional import Conv2D, MaxPooling2D\n",
    "from keras.layers import Dropout\n",
    "from keras.callbacks import EarlyStopping\n",
    "from sklearn.model_selection import train_test_split\n",
    "\n",
    "from tensorflow.keras import layers\n",
    "from tensorflow.keras.models import Sequential"
   ]
  },
  {
   "cell_type": "code",
   "execution_count": 3,
   "metadata": {},
   "outputs": [],
   "source": [
    "#load data chunks and converts to numpy arrays\n",
    "def load_pose_data():\n",
    "    pose = np.array(loadmat('./data/pose.mat')['pose'])\n",
    "    illum = np.array(loadmat('./data/illumination.mat')['illum'])\n",
    "    return pose, illum\n",
    "\n",
    "def make_pose_dataset(pose, illum, test_size = .3):\n",
    "    pose_data = []\n",
    "    pose_labels = []\n",
    "    for subject in range(68):\n",
    "        for img in range(13):\n",
    "            pose_data.append(pose[:,:,img,subject])\n",
    "            pose_labels.append(subject)\n",
    "            \n",
    "    pose_data = np.array(pose_data)\n",
    "    pose_labels = np.transpose(np.array(pose_labels))\n",
    "    \n",
    "    X_train, X_test, y_train, y_test = train_test_split(pose_data, pose_labels, test_size=test_size, random_state=31, stratify=pose_labels)\n",
    "    X_train, y_train = list(X_train), list(y_train)\n",
    "    \n",
    "    for subject in range(68):\n",
    "        for img in range(21):\n",
    "            image = illum[:,img,subject].reshape((40,48))\n",
    "            image = np.flip(np.rot90(image))\n",
    "            X_train.append(image)\n",
    "            y_train.append(subject)\n",
    "            \n",
    "    X_train, y_train = np.array(X_train), np.array(y_train)\n",
    "    \n",
    "    return X_train, X_test, y_train, y_test"
   ]
  },
  {
   "cell_type": "markdown",
   "metadata": {},
   "source": [
    "### Networks\n",
    "##### Below are functions to create the three neural networks architectures that I will be testing. The first is a very simple, shallow sequential NN, the second is a CNN, and the third is a deeper CNN."
   ]
  },
  {
   "cell_type": "code",
   "execution_count": 4,
   "metadata": {},
   "outputs": [],
   "source": [
    "#networks\n",
    "def build_sequential(num_classes):\n",
    "    # create model\n",
    "    model = Sequential()\n",
    "    model.add(Dense(num_pixels, input_dim=num_pixels, kernel_initializer='normal', activation='relu'))\n",
    "    model.add(Dense(num_classes, kernel_initializer='normal', activation='softmax'))\n",
    "    # Compile model\n",
    "    model.compile(loss='categorical_crossentropy', optimizer='adam', metrics=['accuracy'])\n",
    "    return model\n",
    "\n",
    "def build_cnn(input_shape):\n",
    "    # create model\n",
    "    model = Sequential()\n",
    "    model.add(Conv2D(32, (5, 5), input_shape=input_shape, activation='relu'))\n",
    "    model.add(MaxPooling2D())\n",
    "    model.add(Dropout(0.2))\n",
    "    model.add(Flatten())\n",
    "    model.add(Dense(128, activation='relu'))\n",
    "    model.add(Dense(num_classes, activation='softmax'))\n",
    "    # Compile model\n",
    "    model.compile(loss='categorical_crossentropy', optimizer='adam', metrics=['accuracy'])\n",
    "    return model\n",
    "\n",
    "def build_large_cnn(input_shape):\n",
    "    # create model\n",
    "    model = Sequential()\n",
    "    model.add(Conv2D(30, (5, 5), input_shape=(input_shape), activation='relu'))\n",
    "    model.add(MaxPooling2D())\n",
    "    model.add(Conv2D(15, (3, 3), activation='relu'))\n",
    "    model.add(MaxPooling2D())\n",
    "    model.add(Dropout(0.2))\n",
    "    model.add(Flatten())\n",
    "    model.add(Dense(128, activation='relu'))\n",
    "    model.add(Dense(50, activation='relu'))\n",
    "    model.add(Dense(num_classes, activation='softmax'))\n",
    "    # Compile model\n",
    "    model.compile(loss='categorical_crossentropy', optimizer='adam', metrics=['accuracy'])\n",
    "    return model\n",
    "\n",
    "def build_big_pose(input_shape):\n",
    "    # create model\n",
    "    model = Sequential()\n",
    "    model.add(Conv2D(48, (5, 5), input_shape=(input_shape), activation='relu'))\n",
    "    model.add(MaxPooling2D())\n",
    "    model.add(Conv2D(96, (3, 3), activation='relu'))\n",
    "    model.add(MaxPooling2D())\n",
    "    model.add(Conv2D(192, (3, 3), activation='relu'))\n",
    "    model.add(MaxPooling2D())\n",
    "    model.add(Dropout(0.2))\n",
    "    model.add(Flatten())\n",
    "    model.add(Dense(256, activation='relu'))\n",
    "    model.add(Dense(128, activation='relu'))\n",
    "    model.add(Dense(64, activation='relu'))\n",
    "    model.add(Dense(num_classes, activation='softmax'))\n",
    "    # Compile model\n",
    "    model.compile(loss='categorical_crossentropy', optimizer='adam', metrics=['accuracy'])\n",
    "    return model\n",
    "\n",
    "early_stop = EarlyStopping(monitor='val_loss', mode='min', verbose=1, patience=25,restore_best_weights=True)"
   ]
  },
  {
   "cell_type": "markdown",
   "metadata": {},
   "source": [
    "## POSE Dataset\n",
    "##### I will first test these architectures on the POSE data from project 1."
   ]
  },
  {
   "cell_type": "code",
   "execution_count": 5,
   "metadata": {},
   "outputs": [],
   "source": [
    "#load pose data\n",
    "pose, illum = load_pose_data()\n",
    "X_train, X_test, y_train, y_test = make_pose_dataset(pose, illum)\n",
    "\n",
    "#expand dimension to include number channels\n",
    "X_train = X_train.reshape((X_train.shape[0], 48, 40, 1)).astype('float32')\n",
    "X_test = X_test.reshape((X_test.shape[0], 48, 40, 1)).astype('float32')\n",
    "\n",
    "# normalize inputs from 0-255 to 0-1\n",
    "X_train = X_train / 255\n",
    "X_test = X_test / 255\n",
    "# one hot encode outputs\n",
    "y_train = np_utils.to_categorical(y_train)\n",
    "y_test = np_utils.to_categorical(y_test)\n",
    "\n",
    "num_classes = y_test.shape[1]\n",
    "num_pixels = X_train.shape[1] * X_train.shape[2]\n",
    "\n",
    "#flattened versions of data for sequentail model\n",
    "X_train_flat = X_train.reshape((X_train.shape[0], num_pixels)).astype('float32')\n",
    "X_test_flat = X_test.reshape((X_test.shape[0], num_pixels)).astype('float32')"
   ]
  },
  {
   "cell_type": "code",
   "execution_count": 6,
   "metadata": {},
   "outputs": [
    {
     "data": {
      "image/png": "[encoded data removed]",
      "text/plain": [
       "<Figure size 432x288 with 4 Axes>"
      ]
     },
     "metadata": {
      "needs_background": "light"
     },
     "output_type": "display_data"
    }
   ],
   "source": [
    "# view pose data\n",
    "imgs = X_train[:4].reshape((4,48,40))\n",
    "plt.subplot(221)\n",
    "plt.imshow(imgs[0], cmap=plt.get_cmap('gray'))\n",
    "plt.axis('off')\n",
    "plt.subplot(222)\n",
    "plt.imshow(imgs[1], cmap=plt.get_cmap('gray'))\n",
    "plt.axis('off')\n",
    "plt.subplot(223)\n",
    "plt.imshow(imgs[2], cmap=plt.get_cmap('gray'))\n",
    "plt.axis('off')\n",
    "plt.subplot(224)\n",
    "plt.imshow(imgs[3], cmap=plt.get_cmap('gray'))\n",
    "# show the plot\n",
    "plt.axis('off')\n",
    "plt.show()"
   ]
  },
  {
   "cell_type": "markdown",
   "metadata": {},
   "source": [
    "### Simple Sequential Model"
   ]
  },
  {
   "cell_type": "code",
   "execution_count": 7,
   "metadata": {},
   "outputs": [
    {
     "name": "stdout",
     "output_type": "stream",
     "text": [
      "Model: \"sequential\"\n",
      "_________________________________________________________________\n",
      "Layer (type)                 Output Shape              Param #   \n",
      "=================================================================\n",
      "dense (Dense)                (None, 1920)              3688320   \n",
      "_________________________________________________________________\n",
      "dense_1 (Dense)              (None, 68)                130628    \n",
      "=================================================================\n",
      "Total params: 3,818,948\n",
      "Trainable params: 3,818,948\n",
      "Non-trainable params: 0\n",
      "_________________________________________________________________\n"
     ]
    }
   ],
   "source": [
    "# build the model\n",
    "pose_sequential = build_sequential(num_classes)\n",
    "pose_sequential.summary()"
   ]
  },
  {
   "cell_type": "code",
   "execution_count": 8,
   "metadata": {},
   "outputs": [
    {
     "name": "stdout",
     "output_type": "stream",
     "text": [
      "Epoch 1/125\n",
      "21/21 - 0s - loss: 5.9425 - accuracy: 0.0367 - val_loss: 5.4444 - val_accuracy: 0.0451\n",
      "Epoch 2/125\n",
      "21/21 - 0s - loss: 4.0250 - accuracy: 0.1667 - val_loss: 3.8710 - val_accuracy: 0.1203\n",
      "Epoch 3/125\n",
      "21/21 - 0s - loss: 2.9349 - accuracy: 0.3910 - val_loss: 3.3782 - val_accuracy: 0.2143\n",
      "Epoch 4/125\n",
      "21/21 - 0s - loss: 2.3866 - accuracy: 0.5210 - val_loss: 3.0369 - val_accuracy: 0.2556\n",
      "Epoch 5/125\n",
      "21/21 - 0s - loss: 1.8859 - accuracy: 0.6598 - val_loss: 2.6540 - val_accuracy: 0.3045\n",
      "Epoch 6/125\n",
      "21/21 - 0s - loss: 1.4826 - accuracy: 0.7625 - val_loss: 2.4796 - val_accuracy: 0.4211\n",
      "Epoch 7/125\n",
      "21/21 - 0s - loss: 1.2391 - accuracy: 0.8133 - val_loss: 2.1570 - val_accuracy: 0.4925\n",
      "Epoch 8/125\n",
      "21/21 - 0s - loss: 1.0068 - accuracy: 0.8504 - val_loss: 2.1829 - val_accuracy: 0.4436\n",
      "Epoch 9/125\n",
      "21/21 - 0s - loss: 0.8546 - accuracy: 0.8675 - val_loss: 1.9738 - val_accuracy: 0.5263\n",
      "Epoch 10/125\n",
      "21/21 - 0s - loss: 0.6727 - accuracy: 0.9110 - val_loss: 1.8861 - val_accuracy: 0.5714\n",
      "Epoch 11/125\n",
      "21/21 - 0s - loss: 0.6141 - accuracy: 0.9145 - val_loss: 1.7043 - val_accuracy: 0.6353\n",
      "Epoch 12/125\n",
      "21/21 - 0s - loss: 0.5266 - accuracy: 0.9286 - val_loss: 1.6167 - val_accuracy: 0.6353\n",
      "Epoch 13/125\n",
      "21/21 - 0s - loss: 0.4476 - accuracy: 0.9428 - val_loss: 1.6149 - val_accuracy: 0.6128\n",
      "Epoch 14/125\n",
      "21/21 - 0s - loss: 0.3652 - accuracy: 0.9624 - val_loss: 1.5986 - val_accuracy: 0.6015\n",
      "Epoch 15/125\n",
      "21/21 - 0s - loss: 0.3484 - accuracy: 0.9580 - val_loss: 1.5951 - val_accuracy: 0.6617\n",
      "Epoch 16/125\n",
      "21/21 - 0s - loss: 0.3067 - accuracy: 0.9585 - val_loss: 1.4860 - val_accuracy: 0.6880\n",
      "Epoch 17/125\n",
      "21/21 - 0s - loss: 0.2963 - accuracy: 0.9575 - val_loss: 1.5513 - val_accuracy: 0.6541\n",
      "Epoch 18/125\n",
      "21/21 - 0s - loss: 0.2450 - accuracy: 0.9702 - val_loss: 1.3634 - val_accuracy: 0.7218\n",
      "Epoch 19/125\n",
      "21/21 - 0s - loss: 0.1906 - accuracy: 0.9848 - val_loss: 1.3396 - val_accuracy: 0.6880\n",
      "Epoch 20/125\n",
      "21/21 - 0s - loss: 0.1761 - accuracy: 0.9844 - val_loss: 1.2314 - val_accuracy: 0.7406\n",
      "Epoch 21/125\n",
      "21/21 - 0s - loss: 0.1421 - accuracy: 0.9897 - val_loss: 1.3410 - val_accuracy: 0.7105\n",
      "Epoch 22/125\n",
      "21/21 - 0s - loss: 0.1433 - accuracy: 0.9897 - val_loss: 1.2909 - val_accuracy: 0.7105\n",
      "Epoch 23/125\n",
      "21/21 - 0s - loss: 0.1268 - accuracy: 0.9922 - val_loss: 1.2534 - val_accuracy: 0.7256\n",
      "Epoch 24/125\n",
      "21/21 - 0s - loss: 0.1251 - accuracy: 0.9878 - val_loss: 1.3480 - val_accuracy: 0.7180\n",
      "Epoch 25/125\n",
      "21/21 - 0s - loss: 0.1136 - accuracy: 0.9917 - val_loss: 1.3012 - val_accuracy: 0.7143\n",
      "Epoch 26/125\n",
      "21/21 - 0s - loss: 0.0994 - accuracy: 0.9936 - val_loss: 1.2853 - val_accuracy: 0.7180\n",
      "Epoch 27/125\n",
      "21/21 - 0s - loss: 0.0915 - accuracy: 0.9941 - val_loss: 1.2023 - val_accuracy: 0.7594\n",
      "Epoch 28/125\n",
      "21/21 - 0s - loss: 0.0764 - accuracy: 0.9956 - val_loss: 1.1430 - val_accuracy: 0.7481\n",
      "Epoch 29/125\n",
      "21/21 - 0s - loss: 0.0623 - accuracy: 0.9990 - val_loss: 1.1017 - val_accuracy: 0.7707\n",
      "Epoch 30/125\n",
      "21/21 - 0s - loss: 0.0578 - accuracy: 0.9995 - val_loss: 1.1333 - val_accuracy: 0.7782\n",
      "Epoch 31/125\n",
      "21/21 - 0s - loss: 0.0492 - accuracy: 0.9995 - val_loss: 1.0858 - val_accuracy: 0.7707\n",
      "Epoch 32/125\n",
      "21/21 - 0s - loss: 0.0439 - accuracy: 1.0000 - val_loss: 1.0815 - val_accuracy: 0.7707\n",
      "Epoch 33/125\n",
      "21/21 - 0s - loss: 0.0422 - accuracy: 1.0000 - val_loss: 1.0778 - val_accuracy: 0.7744\n",
      "Epoch 34/125\n",
      "21/21 - 0s - loss: 0.0393 - accuracy: 1.0000 - val_loss: 1.0600 - val_accuracy: 0.7970\n",
      "Epoch 35/125\n",
      "21/21 - 0s - loss: 0.0352 - accuracy: 1.0000 - val_loss: 1.0621 - val_accuracy: 0.7820\n",
      "Epoch 36/125\n",
      "21/21 - 0s - loss: 0.0337 - accuracy: 1.0000 - val_loss: 1.0423 - val_accuracy: 0.7895\n",
      "Epoch 37/125\n",
      "21/21 - 0s - loss: 0.0319 - accuracy: 1.0000 - val_loss: 1.0724 - val_accuracy: 0.7744\n",
      "Epoch 38/125\n",
      "21/21 - 0s - loss: 0.0301 - accuracy: 1.0000 - val_loss: 1.0546 - val_accuracy: 0.7707\n",
      "Epoch 39/125\n",
      "21/21 - 0s - loss: 0.0286 - accuracy: 1.0000 - val_loss: 1.0581 - val_accuracy: 0.7857\n",
      "Epoch 40/125\n",
      "21/21 - 0s - loss: 0.0270 - accuracy: 1.0000 - val_loss: 1.0900 - val_accuracy: 0.7820\n",
      "Epoch 41/125\n",
      "21/21 - 0s - loss: 0.0257 - accuracy: 1.0000 - val_loss: 1.0411 - val_accuracy: 0.7895\n",
      "Epoch 42/125\n",
      "21/21 - 0s - loss: 0.0243 - accuracy: 1.0000 - val_loss: 1.0746 - val_accuracy: 0.7744\n",
      "Epoch 43/125\n",
      "21/21 - 0s - loss: 0.0240 - accuracy: 1.0000 - val_loss: 1.0514 - val_accuracy: 0.7932\n",
      "Epoch 44/125\n",
      "21/21 - 0s - loss: 0.0233 - accuracy: 1.0000 - val_loss: 1.0998 - val_accuracy: 0.7632\n",
      "Epoch 45/125\n",
      "21/21 - 0s - loss: 0.0227 - accuracy: 1.0000 - val_loss: 1.0797 - val_accuracy: 0.7970\n",
      "Epoch 46/125\n",
      "21/21 - 0s - loss: 0.0215 - accuracy: 0.9995 - val_loss: 1.0471 - val_accuracy: 0.7970\n",
      "Epoch 47/125\n",
      "21/21 - 0s - loss: 0.0196 - accuracy: 1.0000 - val_loss: 1.0551 - val_accuracy: 0.7895\n",
      "Epoch 48/125\n",
      "21/21 - 0s - loss: 0.0185 - accuracy: 1.0000 - val_loss: 1.0559 - val_accuracy: 0.7857\n",
      "Epoch 49/125\n",
      "21/21 - 0s - loss: 0.0178 - accuracy: 1.0000 - val_loss: 1.0592 - val_accuracy: 0.7895\n",
      "Epoch 50/125\n",
      "21/21 - 0s - loss: 0.0168 - accuracy: 1.0000 - val_loss: 1.0323 - val_accuracy: 0.7932\n",
      "Epoch 51/125\n",
      "21/21 - 0s - loss: 0.0158 - accuracy: 1.0000 - val_loss: 1.0296 - val_accuracy: 0.8008\n",
      "Epoch 52/125\n",
      "21/21 - 0s - loss: 0.0151 - accuracy: 1.0000 - val_loss: 1.0126 - val_accuracy: 0.7970\n",
      "Epoch 53/125\n",
      "21/21 - 0s - loss: 0.0144 - accuracy: 1.0000 - val_loss: 1.0503 - val_accuracy: 0.8008\n",
      "Epoch 54/125\n",
      "21/21 - 0s - loss: 0.0145 - accuracy: 1.0000 - val_loss: 1.0513 - val_accuracy: 0.7857\n",
      "Epoch 55/125\n",
      "21/21 - 0s - loss: 0.0139 - accuracy: 1.0000 - val_loss: 1.0257 - val_accuracy: 0.7932\n",
      "Epoch 56/125\n",
      "21/21 - 0s - loss: 0.0133 - accuracy: 1.0000 - val_loss: 1.0295 - val_accuracy: 0.8045\n",
      "Epoch 57/125\n",
      "21/21 - 0s - loss: 0.0126 - accuracy: 1.0000 - val_loss: 1.0483 - val_accuracy: 0.7932\n",
      "Epoch 58/125\n",
      "21/21 - 0s - loss: 0.0122 - accuracy: 1.0000 - val_loss: 1.0490 - val_accuracy: 0.8008\n",
      "Epoch 59/125\n",
      "21/21 - 0s - loss: 0.0117 - accuracy: 1.0000 - val_loss: 1.0196 - val_accuracy: 0.8045\n",
      "Epoch 60/125\n",
      "21/21 - 0s - loss: 0.0115 - accuracy: 1.0000 - val_loss: 1.0292 - val_accuracy: 0.8045\n",
      "Epoch 61/125\n",
      "21/21 - 0s - loss: 0.0110 - accuracy: 1.0000 - val_loss: 1.0694 - val_accuracy: 0.7970\n",
      "Epoch 62/125\n",
      "21/21 - 0s - loss: 0.0107 - accuracy: 1.0000 - val_loss: 1.0288 - val_accuracy: 0.8008\n",
      "Epoch 63/125\n",
      "21/21 - 0s - loss: 0.0104 - accuracy: 1.0000 - val_loss: 1.0414 - val_accuracy: 0.8008\n",
      "Epoch 64/125\n",
      "21/21 - 0s - loss: 0.0100 - accuracy: 1.0000 - val_loss: 1.0656 - val_accuracy: 0.7932\n",
      "Epoch 65/125\n",
      "21/21 - 0s - loss: 0.0097 - accuracy: 1.0000 - val_loss: 1.0345 - val_accuracy: 0.7970\n",
      "Epoch 66/125\n",
      "21/21 - 0s - loss: 0.0094 - accuracy: 1.0000 - val_loss: 1.0268 - val_accuracy: 0.8120\n",
      "Epoch 67/125\n",
      "21/21 - 0s - loss: 0.0090 - accuracy: 1.0000 - val_loss: 1.0577 - val_accuracy: 0.8008\n",
      "Epoch 68/125\n",
      "21/21 - 0s - loss: 0.0088 - accuracy: 1.0000 - val_loss: 1.0270 - val_accuracy: 0.8008\n",
      "Epoch 69/125\n",
      "21/21 - 0s - loss: 0.0085 - accuracy: 1.0000 - val_loss: 1.0367 - val_accuracy: 0.8008\n",
      "Epoch 70/125\n",
      "21/21 - 0s - loss: 0.0083 - accuracy: 1.0000 - val_loss: 1.0584 - val_accuracy: 0.7970\n",
      "Epoch 71/125\n",
      "21/21 - 0s - loss: 0.0081 - accuracy: 1.0000 - val_loss: 1.0433 - val_accuracy: 0.8120\n",
      "Epoch 72/125\n",
      "21/21 - 0s - loss: 0.0079 - accuracy: 1.0000 - val_loss: 1.0294 - val_accuracy: 0.8045\n",
      "Epoch 73/125\n",
      "21/21 - 0s - loss: 0.0075 - accuracy: 1.0000 - val_loss: 1.0560 - val_accuracy: 0.8008\n",
      "Epoch 74/125\n",
      "21/21 - 0s - loss: 0.0074 - accuracy: 1.0000 - val_loss: 1.0356 - val_accuracy: 0.8045\n",
      "Epoch 75/125\n",
      "21/21 - 0s - loss: 0.0071 - accuracy: 1.0000 - val_loss: 1.0412 - val_accuracy: 0.8083\n",
      "Epoch 76/125\n",
      "21/21 - 0s - loss: 0.0070 - accuracy: 1.0000 - val_loss: 1.0407 - val_accuracy: 0.7970\n",
      "Epoch 77/125\n",
      "Restoring model weights from the end of the best epoch.\n",
      "21/21 - 0s - loss: 0.0069 - accuracy: 1.0000 - val_loss: 1.0416 - val_accuracy: 0.8083\n",
      "Epoch 00077: early stopping\n",
      "Baseline Error: 20.30%\n"
     ]
    }
   ],
   "source": [
    "# Fit the model\n",
    "pose_seq_history = pose_sequential.fit(X_train_flat, y_train, validation_data=(X_test_flat, y_test), \n",
    "                                       epochs=125, batch_size=100, verbose=2, callbacks=[early_stop])\n",
    "# Final evaluation of the model\n",
    "pose_seq_scores = pose_sequential.evaluate(X_test_flat, y_test, verbose=0)\n",
    "print(\"Baseline Error: %.2f%%\" % (100-pose_seq_scores[1]*100))"
   ]
  },
  {
   "cell_type": "code",
   "execution_count": 9,
   "metadata": {},
   "outputs": [
    {
     "data": {
      "text/plain": [
       "<matplotlib.axes._subplots.AxesSubplot at 0x7fe8686c6250>"
      ]
     },
     "execution_count": 9,
     "metadata": {},
     "output_type": "execute_result"
    },
    {
     "data": {
      "image/png": "[encoded data removed]",
      "text/plain": [
       "<Figure size 432x288 with 1 Axes>"
      ]
     },
     "metadata": {
      "needs_background": "light"
     },
     "output_type": "display_data"
    }
   ],
   "source": [
    "frame = pd.DataFrame(pose_seq_history.history)\n",
    "frame.plot()"
   ]
  },
  {
   "cell_type": "markdown",
   "metadata": {},
   "source": [
    "### Convolutional Neural Net"
   ]
  },
  {
   "cell_type": "code",
   "execution_count": 10,
   "metadata": {},
   "outputs": [],
   "source": [
    "input_shape = (X_train.shape[1],X_train.shape[2],1)"
   ]
  },
  {
   "cell_type": "code",
   "execution_count": 11,
   "metadata": {},
   "outputs": [
    {
     "name": "stdout",
     "output_type": "stream",
     "text": [
      "Model: \"sequential_1\"\n",
      "_________________________________________________________________\n",
      "Layer (type)                 Output Shape              Param #   \n",
      "=================================================================\n",
      "conv2d (Conv2D)              (None, 44, 36, 32)        832       \n",
      "_________________________________________________________________\n",
      "max_pooling2d (MaxPooling2D) (None, 22, 18, 32)        0         \n",
      "_________________________________________________________________\n",
      "dropout (Dropout)            (None, 22, 18, 32)        0         \n",
      "_________________________________________________________________\n",
      "flatten (Flatten)            (None, 12672)             0         \n",
      "_________________________________________________________________\n",
      "dense_2 (Dense)              (None, 128)               1622144   \n",
      "_________________________________________________________________\n",
      "dense_3 (Dense)              (None, 68)                8772      \n",
      "=================================================================\n",
      "Total params: 1,631,748\n",
      "Trainable params: 1,631,748\n",
      "Non-trainable params: 0\n",
      "_________________________________________________________________\n"
     ]
    }
   ],
   "source": [
    "# build the model\n",
    "pose_cnn = build_cnn(input_shape)\n",
    "pose_cnn.summary()"
   ]
  },
  {
   "cell_type": "code",
   "execution_count": 12,
   "metadata": {},
   "outputs": [
    {
     "name": "stdout",
     "output_type": "stream",
     "text": [
      "Epoch 1/150\n",
      "21/21 [==============================] - 1s 53ms/step - loss: 4.2318 - accuracy: 0.0220 - val_loss: 4.1630 - val_accuracy: 0.0602\n",
      "Epoch 2/150\n",
      "21/21 [==============================] - 1s 52ms/step - loss: 4.0702 - accuracy: 0.0699 - val_loss: 3.9810 - val_accuracy: 0.1015\n",
      "Epoch 3/150\n",
      "21/21 [==============================] - 1s 53ms/step - loss: 3.7041 - accuracy: 0.1735 - val_loss: 3.6077 - val_accuracy: 0.1429\n",
      "Epoch 4/150\n",
      "21/21 [==============================] - 1s 50ms/step - loss: 3.0215 - accuracy: 0.3519 - val_loss: 3.0151 - val_accuracy: 0.2820\n",
      "Epoch 5/150\n",
      "21/21 [==============================] - 1s 48ms/step - loss: 2.2591 - accuracy: 0.5269 - val_loss: 2.5184 - val_accuracy: 0.3158\n",
      "Epoch 6/150\n",
      "21/21 [==============================] - 1s 47ms/step - loss: 1.6108 - accuracy: 0.7082 - val_loss: 2.2331 - val_accuracy: 0.3797\n",
      "Epoch 7/150\n",
      "21/21 [==============================] - 1s 48ms/step - loss: 1.1457 - accuracy: 0.7869 - val_loss: 2.0101 - val_accuracy: 0.4624\n",
      "Epoch 8/150\n",
      "21/21 [==============================] - 1s 47ms/step - loss: 0.8601 - accuracy: 0.8470 - val_loss: 1.7590 - val_accuracy: 0.5752\n",
      "Epoch 9/150\n",
      "21/21 [==============================] - 1s 47ms/step - loss: 0.6789 - accuracy: 0.8768 - val_loss: 1.5180 - val_accuracy: 0.6203\n",
      "Epoch 10/150\n",
      "21/21 [==============================] - 1s 47ms/step - loss: 0.5328 - accuracy: 0.9081 - val_loss: 1.5663 - val_accuracy: 0.5602\n",
      "Epoch 11/150\n",
      "21/21 [==============================] - 1s 47ms/step - loss: 0.4245 - accuracy: 0.9257 - val_loss: 1.3416 - val_accuracy: 0.6579\n",
      "Epoch 12/150\n",
      "21/21 [==============================] - 1s 47ms/step - loss: 0.3427 - accuracy: 0.9462 - val_loss: 1.3279 - val_accuracy: 0.6466\n",
      "Epoch 13/150\n",
      "21/21 [==============================] - 1s 47ms/step - loss: 0.3043 - accuracy: 0.9472 - val_loss: 1.3158 - val_accuracy: 0.6729\n",
      "Epoch 14/150\n",
      "21/21 [==============================] - 1s 47ms/step - loss: 0.2808 - accuracy: 0.9506 - val_loss: 1.2904 - val_accuracy: 0.6805\n",
      "Epoch 15/150\n",
      "21/21 [==============================] - 1s 53ms/step - loss: 0.2013 - accuracy: 0.9751 - val_loss: 1.2148 - val_accuracy: 0.6917\n",
      "Epoch 16/150\n",
      "21/21 [==============================] - 1s 48ms/step - loss: 0.1739 - accuracy: 0.9736 - val_loss: 1.1847 - val_accuracy: 0.7143\n",
      "Epoch 17/150\n",
      "21/21 [==============================] - 1s 48ms/step - loss: 0.1424 - accuracy: 0.9795 - val_loss: 1.1250 - val_accuracy: 0.7218\n",
      "Epoch 18/150\n",
      "21/21 [==============================] - 1s 47ms/step - loss: 0.1518 - accuracy: 0.9765 - val_loss: 1.2291 - val_accuracy: 0.7030\n",
      "Epoch 19/150\n",
      "21/21 [==============================] - 1s 48ms/step - loss: 0.1242 - accuracy: 0.9829 - val_loss: 1.1696 - val_accuracy: 0.7293\n",
      "Epoch 20/150\n",
      "21/21 [==============================] - 1s 48ms/step - loss: 0.1047 - accuracy: 0.9868 - val_loss: 1.0405 - val_accuracy: 0.7556\n",
      "Epoch 21/150\n",
      "21/21 [==============================] - 1s 50ms/step - loss: 0.0843 - accuracy: 0.9941 - val_loss: 1.0954 - val_accuracy: 0.7481\n",
      "Epoch 22/150\n",
      "21/21 [==============================] - 1s 49ms/step - loss: 0.0728 - accuracy: 0.9956 - val_loss: 1.0963 - val_accuracy: 0.7556\n",
      "Epoch 23/150\n",
      "21/21 [==============================] - 1s 48ms/step - loss: 0.0635 - accuracy: 0.9951 - val_loss: 1.0756 - val_accuracy: 0.7481\n",
      "Epoch 24/150\n",
      "21/21 [==============================] - 1s 51ms/step - loss: 0.0529 - accuracy: 0.9976 - val_loss: 1.1347 - val_accuracy: 0.7331\n",
      "Epoch 25/150\n",
      "21/21 [==============================] - 1s 50ms/step - loss: 0.0547 - accuracy: 0.9956 - val_loss: 1.1209 - val_accuracy: 0.7331\n",
      "Epoch 26/150\n",
      "21/21 [==============================] - 1s 52ms/step - loss: 0.0510 - accuracy: 0.9956 - val_loss: 1.0286 - val_accuracy: 0.7632\n",
      "Epoch 27/150\n",
      "21/21 [==============================] - 1s 50ms/step - loss: 0.0395 - accuracy: 0.9976 - val_loss: 1.0517 - val_accuracy: 0.7444\n",
      "Epoch 28/150\n",
      "21/21 [==============================] - 1s 48ms/step - loss: 0.0351 - accuracy: 0.9976 - val_loss: 1.0019 - val_accuracy: 0.7744\n",
      "Epoch 29/150\n",
      "21/21 [==============================] - 1s 48ms/step - loss: 0.0328 - accuracy: 0.9980 - val_loss: 1.0561 - val_accuracy: 0.7594\n",
      "Epoch 30/150\n",
      "21/21 [==============================] - 1s 50ms/step - loss: 0.0291 - accuracy: 0.9995 - val_loss: 1.0262 - val_accuracy: 0.7782\n",
      "Epoch 31/150\n",
      "21/21 [==============================] - 1s 50ms/step - loss: 0.0245 - accuracy: 0.9990 - val_loss: 1.0626 - val_accuracy: 0.7669\n",
      "Epoch 32/150\n",
      "21/21 [==============================] - 1s 49ms/step - loss: 0.0214 - accuracy: 1.0000 - val_loss: 1.0086 - val_accuracy: 0.7970\n",
      "Epoch 33/150\n",
      "21/21 [==============================] - 1s 49ms/step - loss: 0.0201 - accuracy: 1.0000 - val_loss: 1.1223 - val_accuracy: 0.7895\n",
      "Epoch 34/150\n",
      "21/21 [==============================] - 1s 49ms/step - loss: 0.0210 - accuracy: 1.0000 - val_loss: 1.0651 - val_accuracy: 0.7707\n",
      "Epoch 35/150\n",
      "21/21 [==============================] - 1s 50ms/step - loss: 0.0198 - accuracy: 1.0000 - val_loss: 1.0609 - val_accuracy: 0.7857\n",
      "Epoch 36/150\n",
      "21/21 [==============================] - 1s 49ms/step - loss: 0.0189 - accuracy: 1.0000 - val_loss: 1.0686 - val_accuracy: 0.7857\n",
      "Epoch 37/150\n",
      "21/21 [==============================] - 1s 49ms/step - loss: 0.0169 - accuracy: 1.0000 - val_loss: 1.0333 - val_accuracy: 0.7895\n",
      "Epoch 38/150\n",
      "21/21 [==============================] - 1s 48ms/step - loss: 0.0152 - accuracy: 1.0000 - val_loss: 1.0292 - val_accuracy: 0.8008\n",
      "Epoch 39/150\n",
      "21/21 [==============================] - 1s 53ms/step - loss: 0.0133 - accuracy: 0.9995 - val_loss: 1.0151 - val_accuracy: 0.7970\n",
      "Epoch 40/150\n",
      "21/21 [==============================] - 1s 49ms/step - loss: 0.0116 - accuracy: 1.0000 - val_loss: 1.0240 - val_accuracy: 0.7895\n",
      "Epoch 41/150\n",
      "21/21 [==============================] - 1s 48ms/step - loss: 0.0115 - accuracy: 1.0000 - val_loss: 1.0517 - val_accuracy: 0.7932\n",
      "Epoch 42/150\n",
      "21/21 [==============================] - 1s 48ms/step - loss: 0.0119 - accuracy: 1.0000 - val_loss: 1.0684 - val_accuracy: 0.7857\n",
      "Epoch 43/150\n",
      "21/21 [==============================] - 1s 50ms/step - loss: 0.0108 - accuracy: 1.0000 - val_loss: 1.0344 - val_accuracy: 0.7970\n",
      "Epoch 44/150\n",
      "21/21 [==============================] - 1s 48ms/step - loss: 0.0095 - accuracy: 1.0000 - val_loss: 1.0604 - val_accuracy: 0.7895\n",
      "Epoch 45/150\n",
      "21/21 [==============================] - 1s 48ms/step - loss: 0.0091 - accuracy: 1.0000 - val_loss: 1.0712 - val_accuracy: 0.7970\n",
      "Epoch 46/150\n",
      "21/21 [==============================] - 1s 47ms/step - loss: 0.0086 - accuracy: 1.0000 - val_loss: 1.0583 - val_accuracy: 0.8045\n",
      "Epoch 47/150\n",
      "21/21 [==============================] - 1s 51ms/step - loss: 0.0090 - accuracy: 1.0000 - val_loss: 1.1271 - val_accuracy: 0.7820\n",
      "Epoch 48/150\n",
      "21/21 [==============================] - 1s 49ms/step - loss: 0.0102 - accuracy: 0.9990 - val_loss: 1.0406 - val_accuracy: 0.7970\n",
      "Epoch 49/150\n",
      "21/21 [==============================] - 1s 48ms/step - loss: 0.0090 - accuracy: 1.0000 - val_loss: 1.0721 - val_accuracy: 0.7820\n",
      "Epoch 50/150\n",
      "21/21 [==============================] - 1s 48ms/step - loss: 0.0265 - accuracy: 0.9946 - val_loss: 1.5222 - val_accuracy: 0.7368\n",
      "Epoch 51/150\n",
      "21/21 [==============================] - 1s 48ms/step - loss: 0.0482 - accuracy: 0.9868 - val_loss: 1.2668 - val_accuracy: 0.7368\n",
      "Epoch 52/150\n",
      "21/21 [==============================] - 1s 51ms/step - loss: 0.0565 - accuracy: 0.9892 - val_loss: 1.4177 - val_accuracy: 0.7143\n",
      "Epoch 53/150\n",
      "20/21 [===========================>..] - ETA: 0s - loss: 0.0454 - accuracy: 0.9905Restoring model weights from the end of the best epoch.\n",
      "21/21 [==============================] - 1s 48ms/step - loss: 0.0448 - accuracy: 0.9907 - val_loss: 1.1893 - val_accuracy: 0.7707\n",
      "Epoch 00053: early stopping\n",
      "CNN Error: 22.56%\n"
     ]
    }
   ],
   "source": [
    "# Fit the model\n",
    "pose_cnn_history = pose_cnn.fit(X_train, y_train, validation_data=(X_test, y_test), \n",
    "                                epochs=150, batch_size=100, callbacks=[early_stop])\n",
    "# Final evaluation of the model\n",
    "pose_cnn_scores = pose_cnn.evaluate(X_test, y_test, verbose=0)\n",
    "print(\"CNN Error: %.2f%%\" % (100-pose_cnn_scores[1]*100))"
   ]
  },
  {
   "cell_type": "code",
   "execution_count": 13,
   "metadata": {},
   "outputs": [
    {
     "data": {
      "text/plain": [
       "<matplotlib.axes._subplots.AxesSubplot at 0x7fe855dfb790>"
      ]
     },
     "execution_count": 13,
     "metadata": {},
     "output_type": "execute_result"
    },
    {
     "data": {
      "image/png": "[encoded data removed]",
      "text/plain": [
       "<Figure size 432x288 with 1 Axes>"
      ]
     },
     "metadata": {
      "needs_background": "light"
     },
     "output_type": "display_data"
    }
   ],
   "source": [
    "pd.DataFrame(pose_cnn_history.history).plot()"
   ]
  },
  {
   "cell_type": "markdown",
   "metadata": {},
   "source": [
    "### Large Convolutional Neural Net"
   ]
  },
  {
   "cell_type": "code",
   "execution_count": 21,
   "metadata": {},
   "outputs": [
    {
     "name": "stdout",
     "output_type": "stream",
     "text": [
      "Model: \"sequential_5\"\n",
      "_________________________________________________________________\n",
      "Layer (type)                 Output Shape              Param #   \n",
      "=================================================================\n",
      "conv2d_10 (Conv2D)           (None, 44, 36, 48)        1248      \n",
      "_________________________________________________________________\n",
      "max_pooling2d_10 (MaxPooling (None, 22, 18, 48)        0         \n",
      "_________________________________________________________________\n",
      "conv2d_11 (Conv2D)           (None, 20, 16, 96)        41568     \n",
      "_________________________________________________________________\n",
      "max_pooling2d_11 (MaxPooling (None, 10, 8, 96)         0         \n",
      "_________________________________________________________________\n",
      "conv2d_12 (Conv2D)           (None, 8, 6, 192)         166080    \n",
      "_________________________________________________________________\n",
      "max_pooling2d_12 (MaxPooling (None, 4, 3, 192)         0         \n",
      "_________________________________________________________________\n",
      "dropout_4 (Dropout)          (None, 4, 3, 192)         0         \n",
      "_________________________________________________________________\n",
      "flatten_4 (Flatten)          (None, 2304)              0         \n",
      "_________________________________________________________________\n",
      "dense_16 (Dense)             (None, 256)               590080    \n",
      "_________________________________________________________________\n",
      "dense_17 (Dense)             (None, 128)               32896     \n",
      "_________________________________________________________________\n",
      "dense_18 (Dense)             (None, 64)                8256      \n",
      "_________________________________________________________________\n",
      "dense_19 (Dense)             (None, 68)                4420      \n",
      "=================================================================\n",
      "Total params: 844,548\n",
      "Trainable params: 844,548\n",
      "Non-trainable params: 0\n",
      "_________________________________________________________________\n"
     ]
    }
   ],
   "source": [
    "# build the model\n",
    "big_pose_cnn = build_big_pose(input_shape)\n",
    "big_pose_cnn.summary()"
   ]
  },
  {
   "cell_type": "code",
   "execution_count": 22,
   "metadata": {},
   "outputs": [
    {
     "name": "stdout",
     "output_type": "stream",
     "text": [
      "Epoch 1/80\n",
      "103/103 [==============================] - 3s 33ms/step - loss: 4.2221 - accuracy: 0.0073 - val_loss: 4.2196 - val_accuracy: 0.0150\n",
      "Epoch 2/80\n",
      "103/103 [==============================] - 3s 32ms/step - loss: 4.2207 - accuracy: 0.0132 - val_loss: 4.2196 - val_accuracy: 0.0113\n",
      "Epoch 3/80\n",
      "103/103 [==============================] - 3s 32ms/step - loss: 4.2203 - accuracy: 0.0112 - val_loss: 4.2196 - val_accuracy: 0.0113\n",
      "Epoch 4/80\n",
      "103/103 [==============================] - 3s 33ms/step - loss: 4.2212 - accuracy: 0.0176 - val_loss: 4.2182 - val_accuracy: 0.0188\n",
      "Epoch 5/80\n",
      "103/103 [==============================] - 3s 33ms/step - loss: 4.1953 - accuracy: 0.0210 - val_loss: 4.0701 - val_accuracy: 0.0338\n",
      "Epoch 6/80\n",
      "103/103 [==============================] - 3s 33ms/step - loss: 4.0914 - accuracy: 0.0279 - val_loss: 3.9320 - val_accuracy: 0.0301\n",
      "Epoch 7/80\n",
      "103/103 [==============================] - 3s 33ms/step - loss: 3.8402 - accuracy: 0.0440 - val_loss: 3.6497 - val_accuracy: 0.0451\n",
      "Epoch 8/80\n",
      "103/103 [==============================] - 3s 33ms/step - loss: 3.6449 - accuracy: 0.0601 - val_loss: 3.7815 - val_accuracy: 0.0489\n",
      "Epoch 9/80\n",
      "103/103 [==============================] - 3s 32ms/step - loss: 3.5190 - accuracy: 0.0616 - val_loss: 3.4513 - val_accuracy: 0.0602\n",
      "Epoch 10/80\n",
      "103/103 [==============================] - 4s 37ms/step - loss: 3.3505 - accuracy: 0.0929 - val_loss: 3.1923 - val_accuracy: 0.1203\n",
      "Epoch 11/80\n",
      "103/103 [==============================] - 4s 43ms/step - loss: 3.0143 - accuracy: 0.1476 - val_loss: 2.7841 - val_accuracy: 0.1992\n",
      "Epoch 12/80\n",
      "103/103 [==============================] - 5s 49ms/step - loss: 2.6320 - accuracy: 0.2312 - val_loss: 2.5326 - val_accuracy: 0.2594\n",
      "Epoch 13/80\n",
      "103/103 [==============================] - 5s 47ms/step - loss: 2.3454 - accuracy: 0.2947 - val_loss: 2.3578 - val_accuracy: 0.2820\n",
      "Epoch 14/80\n",
      "103/103 [==============================] - 4s 41ms/step - loss: 2.0409 - accuracy: 0.3749 - val_loss: 2.1278 - val_accuracy: 0.3759\n",
      "Epoch 15/80\n",
      "103/103 [==============================] - 4s 36ms/step - loss: 1.7952 - accuracy: 0.4306 - val_loss: 2.0604 - val_accuracy: 0.4135\n",
      "Epoch 16/80\n",
      "103/103 [==============================] - 3s 33ms/step - loss: 1.5870 - accuracy: 0.4995 - val_loss: 1.7882 - val_accuracy: 0.4925\n",
      "Epoch 17/80\n",
      "103/103 [==============================] - 3s 33ms/step - loss: 1.4011 - accuracy: 0.5538 - val_loss: 1.7824 - val_accuracy: 0.4850\n",
      "Epoch 18/80\n",
      "103/103 [==============================] - 3s 33ms/step - loss: 1.2913 - accuracy: 0.5953 - val_loss: 1.6805 - val_accuracy: 0.4887\n",
      "Epoch 19/80\n",
      "103/103 [==============================] - 4s 35ms/step - loss: 1.1517 - accuracy: 0.6295 - val_loss: 1.8866 - val_accuracy: 0.4774\n",
      "Epoch 20/80\n",
      "103/103 [==============================] - 4s 37ms/step - loss: 1.1135 - accuracy: 0.6569 - val_loss: 1.6488 - val_accuracy: 0.4925\n",
      "Epoch 21/80\n",
      "103/103 [==============================] - 4s 38ms/step - loss: 0.9651 - accuracy: 0.6852 - val_loss: 1.4624 - val_accuracy: 0.5827\n",
      "Epoch 22/80\n",
      "103/103 [==============================] - 4s 38ms/step - loss: 0.9361 - accuracy: 0.6955 - val_loss: 1.6035 - val_accuracy: 0.5338\n",
      "Epoch 23/80\n",
      "103/103 [==============================] - 4s 38ms/step - loss: 0.8178 - accuracy: 0.7429 - val_loss: 1.3496 - val_accuracy: 0.5902\n",
      "Epoch 24/80\n",
      "103/103 [==============================] - 4s 37ms/step - loss: 0.7850 - accuracy: 0.7341 - val_loss: 1.4505 - val_accuracy: 0.5902\n",
      "Epoch 25/80\n",
      "103/103 [==============================] - 4s 36ms/step - loss: 0.7175 - accuracy: 0.7698 - val_loss: 1.3669 - val_accuracy: 0.5827\n",
      "Epoch 26/80\n",
      "103/103 [==============================] - 4s 35ms/step - loss: 0.7001 - accuracy: 0.7786 - val_loss: 1.4145 - val_accuracy: 0.6165\n",
      "Epoch 27/80\n",
      "103/103 [==============================] - 4s 35ms/step - loss: 0.6089 - accuracy: 0.8084 - val_loss: 1.5788 - val_accuracy: 0.5451\n",
      "Epoch 28/80\n",
      "103/103 [==============================] - 4s 35ms/step - loss: 0.6036 - accuracy: 0.7977 - val_loss: 1.4006 - val_accuracy: 0.6015\n",
      "Epoch 29/80\n",
      "103/103 [==============================] - 4s 36ms/step - loss: 0.5757 - accuracy: 0.8201 - val_loss: 1.2933 - val_accuracy: 0.6278\n",
      "Epoch 30/80\n",
      "103/103 [==============================] - 4s 38ms/step - loss: 0.5121 - accuracy: 0.8250 - val_loss: 1.2680 - val_accuracy: 0.6391\n",
      "Epoch 31/80\n",
      " 71/103 [===================>..........] - ETA: 1s - loss: 0.4403 - accuracy: 0.8542"
     ]
    },
    {
     "ename": "KeyboardInterrupt",
     "evalue": "",
     "output_type": "error",
     "traceback": [
      "\u001b[0;31m---------------------------------------------------------------------------\u001b[0m",
      "\u001b[0;31mKeyboardInterrupt\u001b[0m                         Traceback (most recent call last)",
      "\u001b[0;32m<ipython-input-22-48b85273110f>\u001b[0m in \u001b[0;36m<module>\u001b[0;34m\u001b[0m\n\u001b[1;32m      1\u001b[0m \u001b[0;31m# Fit the model\u001b[0m\u001b[0;34m\u001b[0m\u001b[0;34m\u001b[0m\u001b[0;34m\u001b[0m\u001b[0m\n\u001b[0;32m----> 2\u001b[0;31m \u001b[0mbig_pose_cnn_history\u001b[0m \u001b[0;34m=\u001b[0m \u001b[0mbig_pose_cnn\u001b[0m\u001b[0;34m.\u001b[0m\u001b[0mfit\u001b[0m\u001b[0;34m(\u001b[0m\u001b[0mX_train\u001b[0m\u001b[0;34m,\u001b[0m \u001b[0my_train\u001b[0m\u001b[0;34m,\u001b[0m \u001b[0mvalidation_data\u001b[0m\u001b[0;34m=\u001b[0m\u001b[0;34m(\u001b[0m\u001b[0mX_test\u001b[0m\u001b[0;34m,\u001b[0m \u001b[0my_test\u001b[0m\u001b[0;34m)\u001b[0m\u001b[0;34m,\u001b[0m \u001b[0mepochs\u001b[0m\u001b[0;34m=\u001b[0m\u001b[0;36m80\u001b[0m\u001b[0;34m,\u001b[0m \u001b[0mbatch_size\u001b[0m\u001b[0;34m=\u001b[0m\u001b[0;36m20\u001b[0m\u001b[0;34m,\u001b[0m \u001b[0mcallbacks\u001b[0m\u001b[0;34m=\u001b[0m\u001b[0;34m[\u001b[0m\u001b[0mearly_stop\u001b[0m\u001b[0;34m]\u001b[0m\u001b[0;34m)\u001b[0m\u001b[0;34m\u001b[0m\u001b[0;34m\u001b[0m\u001b[0m\n\u001b[0m\u001b[1;32m      3\u001b[0m \u001b[0;31m# Final evaluation of the model\u001b[0m\u001b[0;34m\u001b[0m\u001b[0;34m\u001b[0m\u001b[0;34m\u001b[0m\u001b[0m\n\u001b[1;32m      4\u001b[0m \u001b[0mbig_pose_cnn_scores\u001b[0m \u001b[0;34m=\u001b[0m \u001b[0mbig_pose_cnn\u001b[0m\u001b[0;34m.\u001b[0m\u001b[0mevaluate\u001b[0m\u001b[0;34m(\u001b[0m\u001b[0mX_test\u001b[0m\u001b[0;34m,\u001b[0m \u001b[0my_test\u001b[0m\u001b[0;34m,\u001b[0m \u001b[0mverbose\u001b[0m\u001b[0;34m=\u001b[0m\u001b[0;36m0\u001b[0m\u001b[0;34m)\u001b[0m\u001b[0;34m\u001b[0m\u001b[0;34m\u001b[0m\u001b[0m\n\u001b[1;32m      5\u001b[0m \u001b[0mprint\u001b[0m\u001b[0;34m(\u001b[0m\u001b[0;34m\"Large CNN Error: %.2f%%\"\u001b[0m \u001b[0;34m%\u001b[0m \u001b[0;34m(\u001b[0m\u001b[0;36m100\u001b[0m\u001b[0;34m-\u001b[0m\u001b[0mbig_pose_cnn_scores\u001b[0m\u001b[0;34m[\u001b[0m\u001b[0;36m1\u001b[0m\u001b[0;34m]\u001b[0m\u001b[0;34m*\u001b[0m\u001b[0;36m100\u001b[0m\u001b[0;34m)\u001b[0m\u001b[0;34m)\u001b[0m\u001b[0;34m\u001b[0m\u001b[0;34m\u001b[0m\u001b[0m\n",
      "\u001b[0;32m/opt/anaconda3/lib/python3.8/site-packages/tensorflow/python/keras/engine/training.py\u001b[0m in \u001b[0;36m_method_wrapper\u001b[0;34m(self, *args, **kwargs)\u001b[0m\n\u001b[1;32m    106\u001b[0m   \u001b[0;32mdef\u001b[0m \u001b[0m_method_wrapper\u001b[0m\u001b[0;34m(\u001b[0m\u001b[0mself\u001b[0m\u001b[0;34m,\u001b[0m \u001b[0;34m*\u001b[0m\u001b[0margs\u001b[0m\u001b[0;34m,\u001b[0m \u001b[0;34m**\u001b[0m\u001b[0mkwargs\u001b[0m\u001b[0;34m)\u001b[0m\u001b[0;34m:\u001b[0m\u001b[0;34m\u001b[0m\u001b[0;34m\u001b[0m\u001b[0m\n\u001b[1;32m    107\u001b[0m     \u001b[0;32mif\u001b[0m \u001b[0;32mnot\u001b[0m \u001b[0mself\u001b[0m\u001b[0;34m.\u001b[0m\u001b[0m_in_multi_worker_mode\u001b[0m\u001b[0;34m(\u001b[0m\u001b[0;34m)\u001b[0m\u001b[0;34m:\u001b[0m  \u001b[0;31m# pylint: disable=protected-access\u001b[0m\u001b[0;34m\u001b[0m\u001b[0;34m\u001b[0m\u001b[0m\n\u001b[0;32m--> 108\u001b[0;31m       \u001b[0;32mreturn\u001b[0m \u001b[0mmethod\u001b[0m\u001b[0;34m(\u001b[0m\u001b[0mself\u001b[0m\u001b[0;34m,\u001b[0m \u001b[0;34m*\u001b[0m\u001b[0margs\u001b[0m\u001b[0;34m,\u001b[0m \u001b[0;34m**\u001b[0m\u001b[0mkwargs\u001b[0m\u001b[0;34m)\u001b[0m\u001b[0;34m\u001b[0m\u001b[0;34m\u001b[0m\u001b[0m\n\u001b[0m\u001b[1;32m    109\u001b[0m \u001b[0;34m\u001b[0m\u001b[0m\n\u001b[1;32m    110\u001b[0m     \u001b[0;31m# Running inside `run_distribute_coordinator` already.\u001b[0m\u001b[0;34m\u001b[0m\u001b[0;34m\u001b[0m\u001b[0;34m\u001b[0m\u001b[0m\n",
      "\u001b[0;32m/opt/anaconda3/lib/python3.8/site-packages/tensorflow/python/keras/engine/training.py\u001b[0m in \u001b[0;36mfit\u001b[0;34m(self, x, y, batch_size, epochs, verbose, callbacks, validation_split, validation_data, shuffle, class_weight, sample_weight, initial_epoch, steps_per_epoch, validation_steps, validation_batch_size, validation_freq, max_queue_size, workers, use_multiprocessing)\u001b[0m\n\u001b[1;32m   1096\u001b[0m                 batch_size=batch_size):\n\u001b[1;32m   1097\u001b[0m               \u001b[0mcallbacks\u001b[0m\u001b[0;34m.\u001b[0m\u001b[0mon_train_batch_begin\u001b[0m\u001b[0;34m(\u001b[0m\u001b[0mstep\u001b[0m\u001b[0;34m)\u001b[0m\u001b[0;34m\u001b[0m\u001b[0;34m\u001b[0m\u001b[0m\n\u001b[0;32m-> 1098\u001b[0;31m               \u001b[0mtmp_logs\u001b[0m \u001b[0;34m=\u001b[0m \u001b[0mtrain_function\u001b[0m\u001b[0;34m(\u001b[0m\u001b[0miterator\u001b[0m\u001b[0;34m)\u001b[0m\u001b[0;34m\u001b[0m\u001b[0;34m\u001b[0m\u001b[0m\n\u001b[0m\u001b[1;32m   1099\u001b[0m               \u001b[0;32mif\u001b[0m \u001b[0mdata_handler\u001b[0m\u001b[0;34m.\u001b[0m\u001b[0mshould_sync\u001b[0m\u001b[0;34m:\u001b[0m\u001b[0;34m\u001b[0m\u001b[0;34m\u001b[0m\u001b[0m\n\u001b[1;32m   1100\u001b[0m                 \u001b[0mcontext\u001b[0m\u001b[0;34m.\u001b[0m\u001b[0masync_wait\u001b[0m\u001b[0;34m(\u001b[0m\u001b[0;34m)\u001b[0m\u001b[0;34m\u001b[0m\u001b[0;34m\u001b[0m\u001b[0m\n",
      "\u001b[0;32m/opt/anaconda3/lib/python3.8/site-packages/tensorflow/python/eager/def_function.py\u001b[0m in \u001b[0;36m__call__\u001b[0;34m(self, *args, **kwds)\u001b[0m\n\u001b[1;32m    778\u001b[0m       \u001b[0;32melse\u001b[0m\u001b[0;34m:\u001b[0m\u001b[0;34m\u001b[0m\u001b[0;34m\u001b[0m\u001b[0m\n\u001b[1;32m    779\u001b[0m         \u001b[0mcompiler\u001b[0m \u001b[0;34m=\u001b[0m \u001b[0;34m\"nonXla\"\u001b[0m\u001b[0;34m\u001b[0m\u001b[0;34m\u001b[0m\u001b[0m\n\u001b[0;32m--> 780\u001b[0;31m         \u001b[0mresult\u001b[0m \u001b[0;34m=\u001b[0m \u001b[0mself\u001b[0m\u001b[0;34m.\u001b[0m\u001b[0m_call\u001b[0m\u001b[0;34m(\u001b[0m\u001b[0;34m*\u001b[0m\u001b[0margs\u001b[0m\u001b[0;34m,\u001b[0m \u001b[0;34m**\u001b[0m\u001b[0mkwds\u001b[0m\u001b[0;34m)\u001b[0m\u001b[0;34m\u001b[0m\u001b[0;34m\u001b[0m\u001b[0m\n\u001b[0m\u001b[1;32m    781\u001b[0m \u001b[0;34m\u001b[0m\u001b[0m\n\u001b[1;32m    782\u001b[0m       \u001b[0mnew_tracing_count\u001b[0m \u001b[0;34m=\u001b[0m \u001b[0mself\u001b[0m\u001b[0;34m.\u001b[0m\u001b[0m_get_tracing_count\u001b[0m\u001b[0;34m(\u001b[0m\u001b[0;34m)\u001b[0m\u001b[0;34m\u001b[0m\u001b[0;34m\u001b[0m\u001b[0m\n",
      "\u001b[0;32m/opt/anaconda3/lib/python3.8/site-packages/tensorflow/python/eager/def_function.py\u001b[0m in \u001b[0;36m_call\u001b[0;34m(self, *args, **kwds)\u001b[0m\n\u001b[1;32m    805\u001b[0m       \u001b[0;31m# In this case we have created variables on the first call, so we run the\u001b[0m\u001b[0;34m\u001b[0m\u001b[0;34m\u001b[0m\u001b[0;34m\u001b[0m\u001b[0m\n\u001b[1;32m    806\u001b[0m       \u001b[0;31m# defunned version which is guaranteed to never create variables.\u001b[0m\u001b[0;34m\u001b[0m\u001b[0;34m\u001b[0m\u001b[0;34m\u001b[0m\u001b[0m\n\u001b[0;32m--> 807\u001b[0;31m       \u001b[0;32mreturn\u001b[0m \u001b[0mself\u001b[0m\u001b[0;34m.\u001b[0m\u001b[0m_stateless_fn\u001b[0m\u001b[0;34m(\u001b[0m\u001b[0;34m*\u001b[0m\u001b[0margs\u001b[0m\u001b[0;34m,\u001b[0m \u001b[0;34m**\u001b[0m\u001b[0mkwds\u001b[0m\u001b[0;34m)\u001b[0m  \u001b[0;31m# pylint: disable=not-callable\u001b[0m\u001b[0;34m\u001b[0m\u001b[0;34m\u001b[0m\u001b[0m\n\u001b[0m\u001b[1;32m    808\u001b[0m     \u001b[0;32melif\u001b[0m \u001b[0mself\u001b[0m\u001b[0;34m.\u001b[0m\u001b[0m_stateful_fn\u001b[0m \u001b[0;32mis\u001b[0m \u001b[0;32mnot\u001b[0m \u001b[0;32mNone\u001b[0m\u001b[0;34m:\u001b[0m\u001b[0;34m\u001b[0m\u001b[0;34m\u001b[0m\u001b[0m\n\u001b[1;32m    809\u001b[0m       \u001b[0;31m# Release the lock early so that multiple threads can perform the call\u001b[0m\u001b[0;34m\u001b[0m\u001b[0;34m\u001b[0m\u001b[0;34m\u001b[0m\u001b[0m\n",
      "\u001b[0;32m/opt/anaconda3/lib/python3.8/site-packages/tensorflow/python/eager/function.py\u001b[0m in \u001b[0;36m__call__\u001b[0;34m(self, *args, **kwargs)\u001b[0m\n\u001b[1;32m   2827\u001b[0m     \u001b[0;32mwith\u001b[0m \u001b[0mself\u001b[0m\u001b[0;34m.\u001b[0m\u001b[0m_lock\u001b[0m\u001b[0;34m:\u001b[0m\u001b[0;34m\u001b[0m\u001b[0;34m\u001b[0m\u001b[0m\n\u001b[1;32m   2828\u001b[0m       \u001b[0mgraph_function\u001b[0m\u001b[0;34m,\u001b[0m \u001b[0margs\u001b[0m\u001b[0;34m,\u001b[0m \u001b[0mkwargs\u001b[0m \u001b[0;34m=\u001b[0m \u001b[0mself\u001b[0m\u001b[0;34m.\u001b[0m\u001b[0m_maybe_define_function\u001b[0m\u001b[0;34m(\u001b[0m\u001b[0margs\u001b[0m\u001b[0;34m,\u001b[0m \u001b[0mkwargs\u001b[0m\u001b[0;34m)\u001b[0m\u001b[0;34m\u001b[0m\u001b[0;34m\u001b[0m\u001b[0m\n\u001b[0;32m-> 2829\u001b[0;31m     \u001b[0;32mreturn\u001b[0m \u001b[0mgraph_function\u001b[0m\u001b[0;34m.\u001b[0m\u001b[0m_filtered_call\u001b[0m\u001b[0;34m(\u001b[0m\u001b[0margs\u001b[0m\u001b[0;34m,\u001b[0m \u001b[0mkwargs\u001b[0m\u001b[0;34m)\u001b[0m  \u001b[0;31m# pylint: disable=protected-access\u001b[0m\u001b[0;34m\u001b[0m\u001b[0;34m\u001b[0m\u001b[0m\n\u001b[0m\u001b[1;32m   2830\u001b[0m \u001b[0;34m\u001b[0m\u001b[0m\n\u001b[1;32m   2831\u001b[0m   \u001b[0;34m@\u001b[0m\u001b[0mproperty\u001b[0m\u001b[0;34m\u001b[0m\u001b[0;34m\u001b[0m\u001b[0m\n",
      "\u001b[0;32m/opt/anaconda3/lib/python3.8/site-packages/tensorflow/python/eager/function.py\u001b[0m in \u001b[0;36m_filtered_call\u001b[0;34m(self, args, kwargs, cancellation_manager)\u001b[0m\n\u001b[1;32m   1841\u001b[0m       \u001b[0;31m`\u001b[0m\u001b[0margs\u001b[0m\u001b[0;31m`\u001b[0m \u001b[0;32mand\u001b[0m\u001b[0;31m \u001b[0m\u001b[0;31m`\u001b[0m\u001b[0mkwargs\u001b[0m\u001b[0;31m`\u001b[0m\u001b[0;34m.\u001b[0m\u001b[0;34m\u001b[0m\u001b[0;34m\u001b[0m\u001b[0m\n\u001b[1;32m   1842\u001b[0m     \"\"\"\n\u001b[0;32m-> 1843\u001b[0;31m     return self._call_flat(\n\u001b[0m\u001b[1;32m   1844\u001b[0m         [t for t in nest.flatten((args, kwargs), expand_composites=True)\n\u001b[1;32m   1845\u001b[0m          if isinstance(t, (ops.Tensor,\n",
      "\u001b[0;32m/opt/anaconda3/lib/python3.8/site-packages/tensorflow/python/eager/function.py\u001b[0m in \u001b[0;36m_call_flat\u001b[0;34m(self, args, captured_inputs, cancellation_manager)\u001b[0m\n\u001b[1;32m   1921\u001b[0m         and executing_eagerly):\n\u001b[1;32m   1922\u001b[0m       \u001b[0;31m# No tape is watching; skip to running the function.\u001b[0m\u001b[0;34m\u001b[0m\u001b[0;34m\u001b[0m\u001b[0;34m\u001b[0m\u001b[0m\n\u001b[0;32m-> 1923\u001b[0;31m       return self._build_call_outputs(self._inference_function.call(\n\u001b[0m\u001b[1;32m   1924\u001b[0m           ctx, args, cancellation_manager=cancellation_manager))\n\u001b[1;32m   1925\u001b[0m     forward_backward = self._select_forward_and_backward_functions(\n",
      "\u001b[0;32m/opt/anaconda3/lib/python3.8/site-packages/tensorflow/python/eager/function.py\u001b[0m in \u001b[0;36mcall\u001b[0;34m(self, ctx, args, cancellation_manager)\u001b[0m\n\u001b[1;32m    543\u001b[0m       \u001b[0;32mwith\u001b[0m \u001b[0m_InterpolateFunctionError\u001b[0m\u001b[0;34m(\u001b[0m\u001b[0mself\u001b[0m\u001b[0;34m)\u001b[0m\u001b[0;34m:\u001b[0m\u001b[0;34m\u001b[0m\u001b[0;34m\u001b[0m\u001b[0m\n\u001b[1;32m    544\u001b[0m         \u001b[0;32mif\u001b[0m \u001b[0mcancellation_manager\u001b[0m \u001b[0;32mis\u001b[0m \u001b[0;32mNone\u001b[0m\u001b[0;34m:\u001b[0m\u001b[0;34m\u001b[0m\u001b[0;34m\u001b[0m\u001b[0m\n\u001b[0;32m--> 545\u001b[0;31m           outputs = execute.execute(\n\u001b[0m\u001b[1;32m    546\u001b[0m               \u001b[0mstr\u001b[0m\u001b[0;34m(\u001b[0m\u001b[0mself\u001b[0m\u001b[0;34m.\u001b[0m\u001b[0msignature\u001b[0m\u001b[0;34m.\u001b[0m\u001b[0mname\u001b[0m\u001b[0;34m)\u001b[0m\u001b[0;34m,\u001b[0m\u001b[0;34m\u001b[0m\u001b[0;34m\u001b[0m\u001b[0m\n\u001b[1;32m    547\u001b[0m               \u001b[0mnum_outputs\u001b[0m\u001b[0;34m=\u001b[0m\u001b[0mself\u001b[0m\u001b[0;34m.\u001b[0m\u001b[0m_num_outputs\u001b[0m\u001b[0;34m,\u001b[0m\u001b[0;34m\u001b[0m\u001b[0;34m\u001b[0m\u001b[0m\n",
      "\u001b[0;32m/opt/anaconda3/lib/python3.8/site-packages/tensorflow/python/eager/execute.py\u001b[0m in \u001b[0;36mquick_execute\u001b[0;34m(op_name, num_outputs, inputs, attrs, ctx, name)\u001b[0m\n\u001b[1;32m     57\u001b[0m   \u001b[0;32mtry\u001b[0m\u001b[0;34m:\u001b[0m\u001b[0;34m\u001b[0m\u001b[0;34m\u001b[0m\u001b[0m\n\u001b[1;32m     58\u001b[0m     \u001b[0mctx\u001b[0m\u001b[0;34m.\u001b[0m\u001b[0mensure_initialized\u001b[0m\u001b[0;34m(\u001b[0m\u001b[0;34m)\u001b[0m\u001b[0;34m\u001b[0m\u001b[0;34m\u001b[0m\u001b[0m\n\u001b[0;32m---> 59\u001b[0;31m     tensors = pywrap_tfe.TFE_Py_Execute(ctx._handle, device_name, op_name,\n\u001b[0m\u001b[1;32m     60\u001b[0m                                         inputs, attrs, num_outputs)\n\u001b[1;32m     61\u001b[0m   \u001b[0;32mexcept\u001b[0m \u001b[0mcore\u001b[0m\u001b[0;34m.\u001b[0m\u001b[0m_NotOkStatusException\u001b[0m \u001b[0;32mas\u001b[0m \u001b[0me\u001b[0m\u001b[0;34m:\u001b[0m\u001b[0;34m\u001b[0m\u001b[0;34m\u001b[0m\u001b[0m\n",
      "\u001b[0;31mKeyboardInterrupt\u001b[0m: "
     ]
    }
   ],
   "source": [
    "# Fit the model\n",
    "big_pose_cnn_history = big_pose_cnn.fit(X_train, y_train, validation_data=(X_test, y_test), epochs=100, batch_size=100, callbacks=[early_stop])\n",
    "# Final evaluation of the model\n",
    "big_pose_cnn_scores = big_pose_cnn.evaluate(X_test, y_test, verbose=0)\n",
    "print(\"Large CNN Error: %.2f%%\" % (100-big_pose_cnn_scores[1]*100))"
   ]
  },
  {
   "cell_type": "code",
   "execution_count": null,
   "metadata": {},
   "outputs": [],
   "source": [
    "pd.DataFrame(dict(big_pose_cnn_history.history)).plot()"
   ]
  },
  {
   "cell_type": "code",
   "execution_count": null,
   "metadata": {},
   "outputs": [],
   "source": [
    "big_pose_cnn.evaluate(X_test,y_test)"
   ]
  },
  {
   "cell_type": "markdown",
   "metadata": {},
   "source": [
    "## MNIST"
   ]
  },
  {
   "cell_type": "code",
   "execution_count": null,
   "metadata": {},
   "outputs": [],
   "source": [
    "#load mnist data\n",
    "(X_train, y_train), (X_test, y_test) = mnist.load_data()"
   ]
  },
  {
   "cell_type": "code",
   "execution_count": null,
   "metadata": {},
   "outputs": [],
   "source": [
    "# view mnist data\n",
    "plt.subplot(221)\n",
    "plt.imshow(X_train[0], cmap=plt.get_cmap('gray'))\n",
    "plt.subplot(222)\n",
    "plt.imshow(X_train[1], cmap=plt.get_cmap('gray'))\n",
    "plt.subplot(223)\n",
    "plt.imshow(X_train[2], cmap=plt.get_cmap('gray'))\n",
    "plt.subplot(224)\n",
    "plt.imshow(X_train[3], cmap=plt.get_cmap('gray'))\n",
    "# show the plot\n",
    "plt.show()"
   ]
  },
  {
   "cell_type": "markdown",
   "metadata": {},
   "source": [
    "#### Data Preprocessing"
   ]
  },
  {
   "cell_type": "code",
   "execution_count": null,
   "metadata": {},
   "outputs": [],
   "source": [
    "#expand dimension to include number channels\n",
    "X_train = X_train.reshape((X_train.shape[0], 28, 28, 1)).astype('float32')\n",
    "X_test = X_test.reshape((X_test.shape[0], 28, 28, 1)).astype('float32')\n",
    "\n",
    "# normalize inputs from 0-255 to 0-1\n",
    "X_train = X_train / 255\n",
    "X_test = X_test / 255\n",
    "# one hot encode outputs\n",
    "y_train = np_utils.to_categorical(y_train)\n",
    "y_test = np_utils.to_categorical(y_test)\n",
    "\n",
    "num_classes = y_test.shape[1]\n",
    "num_pixels = X_train.shape[1] * X_train.shape[2]\n",
    "\n",
    "#flattened versions of data for sequentail model\n",
    "X_train_flat = X_train.reshape((X_train.shape[0], num_pixels)).astype('float32')\n",
    "X_test_flat = X_test.reshape((X_test.shape[0], num_pixels)).astype('float32')"
   ]
  },
  {
   "cell_type": "markdown",
   "metadata": {},
   "source": [
    "### Simple Sequential Network"
   ]
  },
  {
   "cell_type": "code",
   "execution_count": null,
   "metadata": {},
   "outputs": [],
   "source": [
    "# build the model\n",
    "mnist_sequential = build_sequential(num_classes)\n",
    "# Fit the model\n",
    "mnist_sequential.fit(X_train_flat, y_train, validation_data=(X_test_flat, y_test), epochs=20, batch_size=200, verbose=2, callbacks=[early_stop])\n",
    "# Final evaluation of the model\n",
    "scores = mnist_sequential.evaluate(X_test_flat, y_test, verbose=0)\n",
    "print(\"Baseline Error: %.2f%%\" % (100-scores[1]*100))"
   ]
  },
  {
   "cell_type": "markdown",
   "metadata": {},
   "source": [
    "### Convolutional Neural Net"
   ]
  },
  {
   "cell_type": "code",
   "execution_count": null,
   "metadata": {},
   "outputs": [],
   "source": [
    "input_shape = (X_train.shape[1],X_train.shape[2],1)"
   ]
  },
  {
   "cell_type": "code",
   "execution_count": null,
   "metadata": {},
   "outputs": [],
   "source": [
    "# build the model\n",
    "mnist_cnn = build_cnn(input_shape)\n",
    "# Fit the model\n",
    "mnist_cnn.fit(X_train, y_train, validation_data=(X_test, y_test), epochs=25, batch_size=200, callbacks =[earyl_stop])\n",
    "# Final evaluation of the model\n",
    "scores = mnist_cnn.evaluate(X_test, y_test, verbose=0)\n",
    "print(\"CNN Error: %.2f%%\" % (100-scores[1]*100))"
   ]
  },
  {
   "cell_type": "markdown",
   "metadata": {},
   "source": [
    "### Large Convolutional Neural Net"
   ]
  },
  {
   "cell_type": "code",
   "execution_count": null,
   "metadata": {},
   "outputs": [],
   "source": [
    "# build the model\n",
    "mnist_big_cnn = build_large_cnn(input_shape)\n",
    "# Fit the model\n",
    "mnist_big_cnn.fit(X_train, y_train, validation_data=(X_test, y_test), epochs=20, batch_size=200, callbacks =[early_stop])\n",
    "# Final evaluation of the model\n",
    "scores = mnist_large_cnn.evaluate(X_test, y_test, verbose=0)\n",
    "print(\"Large CNN Error: %.2f%%\" % (100-scores[1]*100))"
   ]
  },
  {
   "cell_type": "code",
   "execution_count": null,
   "metadata": {},
   "outputs": [],
   "source": []
  }
 ],
 "metadata": {
  "kernelspec": {
   "display_name": "Python 3",
   "language": "python",
   "name": "python3"
  },
  "language_info": {
   "codemirror_mode": {
    "name": "ipython",
    "version": 3
   },
   "file_extension": ".py",
   "mimetype": "text/x-python",
   "name": "python",
   "nbconvert_exporter": "python",
   "pygments_lexer": "ipython3",
   "version": "3.8.3"
  }
 },
 "nbformat": 4,
 "nbformat_minor": 4
}
